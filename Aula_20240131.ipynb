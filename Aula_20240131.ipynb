{
  "nbformat": 4,
  "nbformat_minor": 0,
  "metadata": {
    "colab": {
      "provenance": [],
      "authorship_tag": "ABX9TyMj85S4i0YZKzpslH1E0L6h",
      "include_colab_link": true
    },
    "kernelspec": {
      "name": "python3",
      "display_name": "Python 3"
    },
    "language_info": {
      "name": "python"
    }
  },
  "cells": [
    {
      "cell_type": "markdown",
      "metadata": {
        "id": "view-in-github",
        "colab_type": "text"
      },
      "source": [
        "<a href=\"https://colab.research.google.com/github/tomasiamussuri/python_senai/blob/main/Aula_20240131.ipynb\" target=\"_parent\"><img src=\"https://colab.research.google.com/assets/colab-badge.svg\" alt=\"Open In Colab\"/></a>"
      ]
    },
    {
      "cell_type": "markdown",
      "source": [
        "Programa para solicitar o nome do usuário"
      ],
      "metadata": {
        "id": "vaLEXbTw6jIR"
      }
    },
    {
      "cell_type": "code",
      "execution_count": 2,
      "metadata": {
        "colab": {
          "base_uri": "https://localhost:8080/"
        },
        "id": "pOhE5wyR54Op",
        "outputId": "8e5a828b-21e9-47f6-c0bf-bad9f855262f"
      },
      "outputs": [
        {
          "name": "stdout",
          "output_type": "stream",
          "text": [
            "Digite seu nome: João\n"
          ]
        }
      ],
      "source": [
        "nome = input(\"Digite seu nome: \") #Declarado variável, do tipo char, nome para receber o nome digitado pelo usuário."
      ]
    },
    {
      "cell_type": "markdown",
      "source": [
        "Imprimir(exibir) o nome digitado"
      ],
      "metadata": {
        "id": "zZt4NHFf8aOJ"
      }
    },
    {
      "cell_type": "code",
      "source": [
        "print(\"Seu nome é: \", nome)"
      ],
      "metadata": {
        "colab": {
          "base_uri": "https://localhost:8080/"
        },
        "id": "bHFYxLWr7M7P",
        "outputId": "b4bda319-4d46-434e-d8d1-4df6bf31211f"
      },
      "execution_count": 3,
      "outputs": [
        {
          "output_type": "stream",
          "name": "stdout",
          "text": [
            "Seu nome é:  João\n"
          ]
        }
      ]
    },
    {
      "cell_type": "markdown",
      "source": [
        "Execute a soma de 2 números digitados pelo usuário"
      ],
      "metadata": {
        "id": "ktTfsezzDDx9"
      }
    },
    {
      "cell_type": "code",
      "source": [
        "numero1 = int(input(\"Digite um número: \")) #foi usado o int para converter string e número inteiro\n",
        "numero2 = int(input(\"Digite outro número: \")) #foi usado o int para converter string e número inteiro\n",
        "soma = numero1 + numero2\n",
        "print(\"O resultado da soma dos números informados é: \", soma)\n",
        "#soma #pode ser exibido o resultado escrevendo assim"
      ],
      "metadata": {
        "colab": {
          "base_uri": "https://localhost:8080/"
        },
        "id": "ADng2uP78_kY",
        "outputId": "c8b4f927-7f52-46ab-fdc0-f96162f263a0"
      },
      "execution_count": 6,
      "outputs": [
        {
          "output_type": "stream",
          "name": "stdout",
          "text": [
            "Digite um número: 4\n",
            "Digite outro número: 5\n",
            "O resultado da soma dos 2 números informados é:  9\n"
          ]
        }
      ]
    },
    {
      "cell_type": "markdown",
      "source": [
        "1 - Crie um programa para ler um número inteiro e apresente o resultado do quadrado deste número"
      ],
      "metadata": {
        "id": "dRUnj_4ZDE40"
      }
    },
    {
      "cell_type": "code",
      "source": [
        "numero1 = int(input(\"Digite um número: \")) #criada variável para receber um número inteiro digitado pelo usuário\n",
        "resultado = numero1 * numero1\n",
        "print(\"O quadrado de \", numero1, \"é: \", resultado)"
      ],
      "metadata": {
        "colab": {
          "base_uri": "https://localhost:8080/"
        },
        "id": "mDg_RGmtDNOM",
        "outputId": "f81655ce-19dc-4047-af53-c6eb86426d87"
      },
      "execution_count": 9,
      "outputs": [
        {
          "output_type": "stream",
          "name": "stdout",
          "text": [
            "Digite um número: 6\n",
            "O quadrado de  6 é:  36\n"
          ]
        }
      ]
    },
    {
      "cell_type": "markdown",
      "source": [
        "2 - Crie um programa que leia dois caracteres e imprima-os na tela da seguinte forma: \"O usuário digitou {caractere1} e {caractere2}!\"."
      ],
      "metadata": {
        "id": "JIvBVhIoEuq3"
      }
    },
    {
      "cell_type": "code",
      "source": [
        "caractere1 = input(\"Digite uma palavra: \")\n",
        "caractere2 = input(\"Digite outra palavra: \")\n",
        "print(\"O usuário digitou \", caractere1, \"e \", caractere2, \"!\")"
      ],
      "metadata": {
        "colab": {
          "base_uri": "https://localhost:8080/"
        },
        "id": "K--oRoMuFLkT",
        "outputId": "52148da9-7553-4253-bd03-111208655a13"
      },
      "execution_count": 10,
      "outputs": [
        {
          "output_type": "stream",
          "name": "stdout",
          "text": [
            "Digite uma palavra: Uva\n",
            "Digite outra palavra: Maça\n",
            "O usuário digitou  Uva e  Maça\n"
          ]
        }
      ]
    },
    {
      "cell_type": "markdown",
      "source": [
        "3 - Crie um programa que leia um número inteiro e imprimir seu sucessor e seu antecessor."
      ],
      "metadata": {
        "id": "ChVCAnDUFvCP"
      }
    },
    {
      "cell_type": "code",
      "source": [
        "numero = int(input(\"Digite um número: \"))\n",
        "antecessorNumero = (numero - 1)\n",
        "sucessorNumero = (numero + 1)\n",
        "print(\"O antecessor de \", numero, \"é: \", antecessorNumero, \" e o sucessor é: \", sucessorNumero)"
      ],
      "metadata": {
        "colab": {
          "base_uri": "https://localhost:8080/"
        },
        "id": "Uc1h_E1lGuyj",
        "outputId": "f08ec94a-2974-432a-a2d3-8cf2b5bb8088"
      },
      "execution_count": 11,
      "outputs": [
        {
          "output_type": "stream",
          "name": "stdout",
          "text": [
            "Digite um número: 7\n",
            "O antecessor de  7 é:  6  e o sucessor é:  8\n"
          ]
        }
      ]
    }
  ]
}
{
  "nbformat": 4,
  "nbformat_minor": 0,
  "metadata": {
    "colab": {
      "provenance": [],
      "authorship_tag": "ABX9TyOJNTwhe06D/i9fagJ2RyYq",
      "include_colab_link": true
    },
    "kernelspec": {
      "name": "python3",
      "display_name": "Python 3"
    },
    "language_info": {
      "name": "python"
    }
  },
  "cells": [
    {
      "cell_type": "markdown",
      "metadata": {
        "id": "view-in-github",
        "colab_type": "text"
      },
      "source": [
        "<a href=\"https://colab.research.google.com/github/tomasiamussuri/python_senai/blob/main/Aula_20240202.ipynb\" target=\"_parent\"><img src=\"https://colab.research.google.com/assets/colab-badge.svg\" alt=\"Open In Colab\"/></a>"
      ]
    },
    {
      "cell_type": "markdown",
      "source": [
        "1 - Faça um programa que leia 2 notas de um aluno, calcule a média e imprima aprovado ou reprovado (para ser aprovado a média deve ser no mínimo 6)."
      ],
      "metadata": {
        "id": "FtZhsMf5s3K-"
      }
    },
    {
      "cell_type": "code",
      "execution_count": 9,
      "metadata": {
        "colab": {
          "base_uri": "https://localhost:8080/"
        },
        "id": "nxdMopY8snHN",
        "outputId": "a033063c-5292-46a0-f4f4-d8f374a3bbcc"
      },
      "outputs": [
        {
          "output_type": "stream",
          "name": "stdout",
          "text": [
            "Informe a primeira nota: 4\n",
            "Informe a segunda nota: 7\n",
            "Você não foi aprovado(a).\n"
          ]
        }
      ],
      "source": [
        "nota1 = float(input(\"Informe a primeira nota: \"))\n",
        "\n",
        "if nota1 > 0 and nota1 <= 10:\n",
        "  nota2 = float(input(\"Informe a segunda nota: \"))\n",
        "  if nota2 > 0 and nota2 <= 10:\n",
        "    media = (nota1 + nota2) / 2\n",
        "    if media > 6:\n",
        "     print(\"Você foi aprovado(a)!\")\n",
        "    else:\n",
        "       print(\"Você não foi aprovado(a).\")\n",
        "  else:\n",
        "    print(\"A nota informada deve ser entre 0 e 10. Tente novamente!\")\n",
        "else:\n",
        "  print(\"A nota informada deve ser entre 0 e 10. Tente novamente!\")\n"
      ]
    },
    {
      "cell_type": "markdown",
      "source": [
        "2 - Faça um programa que peça dois números ao usuário e mostre qual o maior e qual é o menor."
      ],
      "metadata": {
        "id": "ueWydAY7w52M"
      }
    },
    {
      "cell_type": "code",
      "source": [
        "numero1 = float(input(\"Digite o primeiro número: \"))\n",
        "numero2 = float(input(\"Digite o segundo número: \"))\n",
        "\n",
        "if numero1 < numero2:\n",
        "  print(\"O número {:} é maior que o número {:}\".format(numero2, numero1))\n",
        "else:\n",
        "  print(\"O número {:} é maior que o número {:}\".format(numero1, numero2))"
      ],
      "metadata": {
        "colab": {
          "base_uri": "https://localhost:8080/"
        },
        "id": "D8OVfFAwwsc4",
        "outputId": "50df2622-1af3-40ac-902c-61fe03e95bff"
      },
      "execution_count": 11,
      "outputs": [
        {
          "output_type": "stream",
          "name": "stdout",
          "text": [
            "Digite o primeiro número: 9\n",
            "Digite o segundo número: 2\n",
            "O número 9.0 é maior que o número 2.0\n"
          ]
        }
      ]
    },
    {
      "cell_type": "markdown",
      "source": [
        "3 - Escreva um programa em Python que recebe um inteiro e diga se é par ou ímpar.\n"
      ],
      "metadata": {
        "id": "q_kbA6MJxuj0"
      }
    },
    {
      "cell_type": "code",
      "source": [
        "numero = int(input(\"Digite um número: \"))\n",
        "if numero % 2 == 0:\n",
        "  print(\"O número {:} é par.\".format(numero))\n",
        "else:\n",
        "  print(\"O número {:} é ímpar.\".format(numero))"
      ],
      "metadata": {
        "colab": {
          "base_uri": "https://localhost:8080/"
        },
        "id": "he9eYKJQyfeH",
        "outputId": "586e5887-7574-4df6-efa7-0b90b6aaea9e"
      },
      "execution_count": 16,
      "outputs": [
        {
          "output_type": "stream",
          "name": "stdout",
          "text": [
            "Digite um número: 4\n",
            "O número 4 é par.\n"
          ]
        }
      ]
    },
    {
      "cell_type": "markdown",
      "source": [
        "4 - Escreva um programa que pergunte o ano de nascimento de uma pessoa e diga se ele é maior de idade"
      ],
      "metadata": {
        "id": "wZsZVbutyZWK"
      }
    },
    {
      "cell_type": "code",
      "source": [
        "from datetime import date\n",
        "\n",
        "anoNascimento = int(input(\"Digite o ano do seu nascimento: \"))\n",
        "anoAtual = date.today().year\n",
        "idade = anoAtual - anoNascimento\n",
        "\n",
        "if idade >= 18:\n",
        "  print(\"Vocé maior de idade.\")\n",
        "else:\n",
        "  print(\"Você é menor de idade.\")"
      ],
      "metadata": {
        "colab": {
          "base_uri": "https://localhost:8080/"
        },
        "id": "ejk_0DC1zF-N",
        "outputId": "02ce19fd-e37d-45ad-c385-c7e8b6073672"
      },
      "execution_count": 25,
      "outputs": [
        {
          "output_type": "stream",
          "name": "stdout",
          "text": [
            "Digite o ano do seu nascimento: 2013\n",
            "2024\n",
            "Você é menor de idade.\n"
          ]
        }
      ]
    },
    {
      "cell_type": "markdown",
      "source": [
        "5 - Faça um algoritmo para ler dois números inteiros e informar se estes são iguais ou diferentes."
      ],
      "metadata": {
        "id": "oPxjDSCcyYLL"
      }
    },
    {
      "cell_type": "code",
      "source": [
        "numero1 = int(input(\"Digite o primeiro número: \"))\n",
        "numero2 = int(input(\"Digite o segundo número: \"))\n",
        "\n",
        "if numero1 == numero2:\n",
        "  print(\"Os números digitados são iguais.\")\n",
        "else:\n",
        "  print(\"Os números digitados são diferentes.\")"
      ],
      "metadata": {
        "colab": {
          "base_uri": "https://localhost:8080/"
        },
        "id": "7f0Fwmcezkz1",
        "outputId": "17703c64-0534-4c7e-8e81-43cc474150ec"
      },
      "execution_count": 21,
      "outputs": [
        {
          "output_type": "stream",
          "name": "stdout",
          "text": [
            "Digite o primeiro número: 3\n",
            "Digite o segundo número: 4\n",
            "Os números digitados são diferentes.\n"
          ]
        }
      ]
    },
    {
      "cell_type": "markdown",
      "source": [
        "6 - Desenvolva um programa que recebe do usuário, o placar de um jogo de futebol (os gols de cada time) e informa se o resultado foi um empate, se a vitória foi do primeiro time ou do segundo time."
      ],
      "metadata": {
        "id": "FBNVqtg7M5db"
      }
    },
    {
      "cell_type": "code",
      "source": [
        "golsTime1 = int(input(\"Informe quantos gols fez o primeiro time: \"))\n",
        "golsTime2 = int(input(\"Informe quantos gols fez o segundo time: \"))\n",
        "\n",
        "if golsTime1 > golsTime2:\n",
        "  print(\"O time 1 venceu o jogo por {:} x {:}.\".format(golsTime1, golsTime2))\n",
        "elif golsTime1 < golsTime2:\n",
        "  print(\"O time 2 venceu o jogo por {:} x {:}.\".format(golsTime1, golsTime2))\n",
        "else:\n",
        "  print(\"O jogo deu empate com o placar {:} x {:}.\".format(golsTime1, golsTime2))"
      ],
      "metadata": {
        "colab": {
          "base_uri": "https://localhost:8080/"
        },
        "id": "vAiokwLXNUQF",
        "outputId": "87f50b8e-1463-4ffe-b57f-0b6dba2c4fa8"
      },
      "execution_count": 29,
      "outputs": [
        {
          "output_type": "stream",
          "name": "stdout",
          "text": [
            "Informe quantos gols fez o primeiro time: 2\n",
            "Informe quantos gols fez o segundo time: 2\n",
            "O jogo deu empate com o placar 2 x 2.\n"
          ]
        }
      ]
    },
    {
      "cell_type": "markdown",
      "source": [
        "7 - Faça um algoritmo que receba um valor de uma compra e receba o numero de prestações, apresente o valor das prestações sem juros."
      ],
      "metadata": {
        "id": "31FNJO0lNMlx"
      }
    },
    {
      "cell_type": "code",
      "source": [
        "valorCompra = float(input(\"Informe o valor da compra: \"))\n",
        "numPrestacoes = int(input(\"Informe a quantidade de parcelas: \"))\n",
        "valorPrestacao = valorCompra / numPrestacoes\n",
        "\n",
        "print(\"O valor da prestação é R$ {:.2f}.\".format(valorPrestacao))\n",
        "\n"
      ],
      "metadata": {
        "colab": {
          "base_uri": "https://localhost:8080/"
        },
        "id": "fGnPyGDhOea9",
        "outputId": "0bd2a8b7-783a-4997-f5fa-533190aa2b16"
      },
      "execution_count": 42,
      "outputs": [
        {
          "output_type": "stream",
          "name": "stdout",
          "text": [
            "Informe o valor da compra: 3000\n",
            "Informe a quantidade de parcelas: 5\n",
            "O valor da prestação é R$ 600.00.\n"
          ]
        }
      ]
    },
    {
      "cell_type": "markdown",
      "source": [
        "8 - Elabore um algoritmo que dada a idade de um nadador classifique-o em uma das seguintes categorias:\n",
        "- Infantil A - de 5 a 7 anos\n",
        "- Infantil B - de 8 a 11 anos\n",
        "- Juvenil A - de 12 a 13 anos\n",
        "- Juvenil B - de 14 a 17 anos\n",
        "- Adulto - 18 anos ou mais"
      ],
      "metadata": {
        "id": "QfnUxiTVNGcY"
      }
    },
    {
      "cell_type": "code",
      "source": [
        "idade = int(input(\"Informe a idade do nadador: \"))\n",
        "\n",
        "if idade >= 5:\n",
        "  if idade <= 7:\n",
        "    print(\"Categoria: Infantil A\")\n",
        "  elif idade <= 11:\n",
        "    print(\"Categoria: Infantil B\")\n",
        "  elif idade <= 13:\n",
        "    print(\"Categoria: Juvenil A\")\n",
        "  elif idade < 18:\n",
        "    print(\"Categoria: Juvenil B\")\n",
        "  else:\n",
        "    print(\"Categoria: Adulto\")\n",
        "else:\n",
        "  print(\"Só é permitido competidores com idade maior ou igual a 5.\")\n"
      ],
      "metadata": {
        "colab": {
          "base_uri": "https://localhost:8080/"
        },
        "id": "5o0k0MfKO15z",
        "outputId": "7e61fa11-2d85-4a8f-80fb-757bbc8a7e11"
      },
      "execution_count": 43,
      "outputs": [
        {
          "output_type": "stream",
          "name": "stdout",
          "text": [
            "Informe a idade do nadador: 4\n",
            "Só é permitido competidores com idade maior ou igual a 5.\n"
          ]
        }
      ]
    }
  ]
}
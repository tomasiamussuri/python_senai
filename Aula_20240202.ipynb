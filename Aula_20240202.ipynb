{
  "nbformat": 4,
  "nbformat_minor": 0,
  "metadata": {
    "colab": {
      "provenance": [],
      "authorship_tag": "ABX9TyMQozbxxwgRKGBOrUBsLh9m",
      "include_colab_link": true
    },
    "kernelspec": {
      "name": "python3",
      "display_name": "Python 3"
    },
    "language_info": {
      "name": "python"
    }
  },
  "cells": [
    {
      "cell_type": "markdown",
      "metadata": {
        "id": "view-in-github",
        "colab_type": "text"
      },
      "source": [
        "<a href=\"https://colab.research.google.com/github/tomasiamussuri/python_senai/blob/main/Aula_20240202.ipynb\" target=\"_parent\"><img src=\"https://colab.research.google.com/assets/colab-badge.svg\" alt=\"Open In Colab\"/></a>"
      ]
    },
    {
      "cell_type": "markdown",
      "source": [
        "1 - Faça um programa que leia 2 notas de um aluno, calcule a média e imprima aprovado ou reprovado (para ser aprovado a média deve ser no mínimo 6)."
      ],
      "metadata": {
        "id": "FtZhsMf5s3K-"
      }
    },
    {
      "cell_type": "code",
      "execution_count": 9,
      "metadata": {
        "colab": {
          "base_uri": "https://localhost:8080/"
        },
        "id": "nxdMopY8snHN",
        "outputId": "a033063c-5292-46a0-f4f4-d8f374a3bbcc"
      },
      "outputs": [
        {
          "output_type": "stream",
          "name": "stdout",
          "text": [
            "Informe a primeira nota: 4\n",
            "Informe a segunda nota: 7\n",
            "Você não foi aprovado(a).\n"
          ]
        }
      ],
      "source": [
        "nota1 = float(input(\"Informe a primeira nota: \"))\n",
        "\n",
        "if nota1 > 0 and nota1 <= 10:\n",
        "  nota2 = float(input(\"Informe a segunda nota: \"))\n",
        "  if nota2 > 0 and nota2 <= 10:\n",
        "    media = (nota1 + nota2) / 2\n",
        "    if media > 6:\n",
        "     print(\"Você foi aprovado(a)!\")\n",
        "    else:\n",
        "       print(\"Você não foi aprovado(a).\")\n",
        "  else:\n",
        "    print(\"A nota informada deve ser entre 0 e 10. Tente novamente!\")\n",
        "else:\n",
        "  print(\"A nota informada deve ser entre 0 e 10. Tente novamente!\")\n"
      ]
    },
    {
      "cell_type": "markdown",
      "source": [
        "2 - Faça um programa que peça dois números ao usuário e mostre qual o maior e qual é o menor."
      ],
      "metadata": {
        "id": "ueWydAY7w52M"
      }
    },
    {
      "cell_type": "code",
      "source": [
        "numero1 = float(input(\"Digite o primeiro número: \"))\n",
        "numero2 = float(input(\"Digite o segundo número: \"))\n",
        "\n",
        "if numero1 < numero2:\n",
        "  print(\"O número {:} é maior que o número {:}\".format(numero2, numero1))\n",
        "else:\n",
        "  print(\"O número {:} é maior que o número {:}\".format(numero1, numero2))"
      ],
      "metadata": {
        "colab": {
          "base_uri": "https://localhost:8080/"
        },
        "id": "D8OVfFAwwsc4",
        "outputId": "50df2622-1af3-40ac-902c-61fe03e95bff"
      },
      "execution_count": 11,
      "outputs": [
        {
          "output_type": "stream",
          "name": "stdout",
          "text": [
            "Digite o primeiro número: 9\n",
            "Digite o segundo número: 2\n",
            "O número 9.0 é maior que o número 2.0\n"
          ]
        }
      ]
    },
    {
      "cell_type": "markdown",
      "source": [
        "3 - Escreva um programa em Python que recebe um inteiro e diga se é par ou ímpar.\n"
      ],
      "metadata": {
        "id": "q_kbA6MJxuj0"
      }
    },
    {
      "cell_type": "code",
      "source": [
        "numero = int(input(\"Digite um número: \"))\n",
        "if numero % 2 == 0:\n",
        "  print(\"O número {:} é par.\".format(numero))\n",
        "else:\n",
        "  print(\"O número {:} é ímpar.\".format(numero))"
      ],
      "metadata": {
        "colab": {
          "base_uri": "https://localhost:8080/"
        },
        "id": "he9eYKJQyfeH",
        "outputId": "586e5887-7574-4df6-efa7-0b90b6aaea9e"
      },
      "execution_count": 16,
      "outputs": [
        {
          "output_type": "stream",
          "name": "stdout",
          "text": [
            "Digite um número: 4\n",
            "O número 4 é par.\n"
          ]
        }
      ]
    },
    {
      "cell_type": "markdown",
      "source": [
        "4 - Escreva um programa que pergunte o ano de nascimento de uma pessoa e diga se ele é maior de idade"
      ],
      "metadata": {
        "id": "wZsZVbutyZWK"
      }
    },
    {
      "cell_type": "code",
      "source": [
        "anoNascimento = int(input(\"Digite o ano do seu nascimento: \"))\n",
        "idade = 2024 - anoNascimento\n",
        "if idade >= 18:\n",
        "  print(\"Vocé maior de idade.\")\n",
        "else:\n",
        "  print(\"Você é menor de idade.\")"
      ],
      "metadata": {
        "colab": {
          "base_uri": "https://localhost:8080/"
        },
        "id": "ejk_0DC1zF-N",
        "outputId": "17ea7bb5-1239-46e9-eb12-92d754d8cd68"
      },
      "execution_count": 19,
      "outputs": [
        {
          "output_type": "stream",
          "name": "stdout",
          "text": [
            "Digite o ano do seu nascimento: 2013\n",
            "Você é menor de idade.\n"
          ]
        }
      ]
    },
    {
      "cell_type": "markdown",
      "source": [
        "5 - Faça um algoritmo para ler dois números inteiros e informar se estes são iguais ou diferentes."
      ],
      "metadata": {
        "id": "oPxjDSCcyYLL"
      }
    },
    {
      "cell_type": "code",
      "source": [
        "numero1 = int(input(\"Digite o primeiro número: \"))\n",
        "numero2 = int(input(\"Digite o segundo número: \"))\n",
        "\n",
        "if numero1 == numero2:\n",
        "  print(\"Os números digitados são iguais.\")\n",
        "else:\n",
        "  print(\"Os números digitados são diferentes.\")"
      ],
      "metadata": {
        "colab": {
          "base_uri": "https://localhost:8080/"
        },
        "id": "7f0Fwmcezkz1",
        "outputId": "17703c64-0534-4c7e-8e81-43cc474150ec"
      },
      "execution_count": 21,
      "outputs": [
        {
          "output_type": "stream",
          "name": "stdout",
          "text": [
            "Digite o primeiro número: 3\n",
            "Digite o segundo número: 4\n",
            "Os números digitados são diferentes.\n"
          ]
        }
      ]
    }
  ]
}
{
  "nbformat": 4,
  "nbformat_minor": 0,
  "metadata": {
    "colab": {
      "provenance": [],
      "authorship_tag": "ABX9TyMgQDTSlRap9hXHnNKfowC4",
      "include_colab_link": true
    },
    "kernelspec": {
      "name": "python3",
      "display_name": "Python 3"
    },
    "language_info": {
      "name": "python"
    }
  },
  "cells": [
    {
      "cell_type": "markdown",
      "metadata": {
        "id": "view-in-github",
        "colab_type": "text"
      },
      "source": [
        "<a href=\"https://colab.research.google.com/github/tomasiamussuri/python_senai/blob/main/Aula_20240205.ipynb\" target=\"_parent\"><img src=\"https://colab.research.google.com/assets/colab-badge.svg\" alt=\"Open In Colab\"/></a>"
      ]
    },
    {
      "cell_type": "markdown",
      "source": [
        "uso do laço for, para imprimir 10 números, iniciando do zero."
      ],
      "metadata": {
        "id": "orwUkykbebX2"
      }
    },
    {
      "cell_type": "code",
      "execution_count": 1,
      "metadata": {
        "colab": {
          "base_uri": "https://localhost:8080/"
        },
        "id": "YSjQuTb3deY7",
        "outputId": "72a98f8e-4273-4349-d08b-1b2358811139"
      },
      "outputs": [
        {
          "output_type": "stream",
          "name": "stdout",
          "text": [
            "0\n",
            "1\n",
            "2\n",
            "3\n",
            "4\n",
            "5\n",
            "6\n",
            "7\n",
            "8\n",
            "9\n"
          ]
        }
      ],
      "source": [
        "for i in range(10):\n",
        "  print(i)"
      ]
    },
    {
      "cell_type": "code",
      "source": [
        "for i in 'Daniel':\n",
        "  print(i)"
      ],
      "metadata": {
        "colab": {
          "base_uri": "https://localhost:8080/"
        },
        "id": "ZdyQuw3qdmpC",
        "outputId": "ab5df839-3482-4654-deed-af5b82c1540d"
      },
      "execution_count": 2,
      "outputs": [
        {
          "output_type": "stream",
          "name": "stdout",
          "text": [
            "D\n",
            "a\n",
            "n\n",
            "i\n",
            "e\n",
            "l\n"
          ]
        }
      ]
    },
    {
      "cell_type": "code",
      "source": [
        "usando a biblioteca random para gerar numeros aleatorios\n"
      ],
      "metadata": {
        "id": "-1APnNW7fgdt"
      },
      "execution_count": null,
      "outputs": []
    },
    {
      "cell_type": "code",
      "source": [
        "import random\n",
        "import tkinter\n",
        "\n",
        "dado1 = 0\n",
        "dado2 = 0\n",
        "dado3 = 0\n",
        "dado4 = 0\n",
        "dado5 = 0\n",
        "dado6 = 0\n",
        "\n",
        "for i in range(1000):\n",
        "  dado = random.randint(1, 6)\n",
        "  if dado == 1:\n",
        "    dado1 += 1\n",
        "  elif dado == 2:\n",
        "    dado2 += 2\n",
        "  elif dado == 3:\n",
        "    dado3 += 3\n",
        "  elif dado == 4:\n",
        "    dado4 += 4\n",
        "  elif dado == 5:\n",
        "    dado5 += 5\n",
        "  elif dado == 6:\n",
        "    dado6 += 6\n",
        "\n",
        "\n",
        "print('1: ' + str(dado1))\n",
        "print('2: ' + str(dado2))\n",
        "print('3: ' + str(dado3))\n",
        "print('4: ' + str(dado4))\n",
        "print('5: ' + str(dado5))\n",
        "print('6: ' + str(dado6))"
      ],
      "metadata": {
        "colab": {
          "base_uri": "https://localhost:8080/"
        },
        "id": "sxYiKkv-fm5F",
        "outputId": "5b6bdff5-19bb-4532-e38c-8e7ca29cef73"
      },
      "execution_count": 4,
      "outputs": [
        {
          "output_type": "stream",
          "name": "stdout",
          "text": [
            "1: 169\n",
            "2: 360\n",
            "3: 501\n",
            "4: 652\n",
            "5: 830\n",
            "6: 930\n"
          ]
        }
      ]
    },
    {
      "cell_type": "markdown",
      "source": [
        "Dada a atual crise hídrica do país, as pessoas começaram a construir\n",
        "reservatórios para armazenar água em suas propriedades. Faça um\n",
        "programa em linguagem Python que auxilie os utilizadores do reservatório a\n",
        "controlarem seu consumo. Obtenha do teclado as dimensões de um\n",
        "reservatório (altura, largura e comprimento, em centímetros) e o consumo\n",
        "médio diário dos utilizadores do reservatório (em litros/dia).\n",
        "Assuma que o reservatório esteja cheio, tenha formato cúbico e informe:\n",
        "(a) A capacidade total do reservatório, em litros;\n",
        "(b) A autonomia do reservatório, em dias;\n",
        "(c) A classificação do consumo, de acordo com a quantidade de dias de\n",
        "autonomia: Consumo elevado, se a autonomia for menor que 2 dias;\n",
        "Consumo moderado, se a autonomia estiver entre 2 e 7 dias; Consumo\n",
        "reduzido, se a autonomia maior que 7 dias.\n",
        "Obs.: Considere que cada litro equivale a 1000 cm3 ou 1 dm3 ."
      ],
      "metadata": {
        "id": "OhXRrbiHs2K3"
      }
    },
    {
      "cell_type": "code",
      "source": [
        "altura = float(input('Informe a altura do reservatório: '))\n",
        "largura = float(input('Infome a largura do reservatório: '))\n",
        "comprimento = float(input('Informe o comprimento do reservatório: '))\n",
        "consumoMedioDia = float(input('Informe o consumo médio diário em litros/dia: '))\n",
        "\n",
        "capacidadeTotal = altura * largura * comprimento\n",
        "\n",
        "autonomiaDias = (capacidadeTotal / consumoMedioDia) / 10\n",
        "\n",
        "# 1 litro = 1000 cm3 ou 10m3\n",
        "\n",
        "print('A autonomia é: ', autonomiaDias, 'L/d')\n",
        "\n",
        "if autonomiaDias < 2:\n",
        "  print('Consumo elevado!')\n",
        "elif autonomiaDias < 7:\n",
        "  print('Consumo moderado!')\n",
        "else:\n",
        "  print('Consumo reduzido!')"
      ],
      "metadata": {
        "colab": {
          "base_uri": "https://localhost:8080/"
        },
        "id": "RAZItksns1WQ",
        "outputId": "22fce2c1-d2d0-4b8d-80b7-6adeeef4a27a"
      },
      "execution_count": 8,
      "outputs": [
        {
          "output_type": "stream",
          "name": "stdout",
          "text": [
            "Informe a altura do reservatório: 2\n",
            "Infome a largura do reservatório: 4\n",
            "Informe o comprimento do reservatório: 5\n",
            "Informe o consumo médio diário em litros/dia: 5\n",
            "A autonomia é:  0.8 L/d\n",
            "Consumo elevado!\n"
          ]
        }
      ]
    }
  ]
}
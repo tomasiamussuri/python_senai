{
  "nbformat": 4,
  "nbformat_minor": 0,
  "metadata": {
    "colab": {
      "provenance": [],
      "authorship_tag": "ABX9TyM3vsW/Nz6RMateU0iPZMzR",
      "include_colab_link": true
    },
    "kernelspec": {
      "name": "python3",
      "display_name": "Python 3"
    },
    "language_info": {
      "name": "python"
    }
  },
  "cells": [
    {
      "cell_type": "markdown",
      "metadata": {
        "id": "view-in-github",
        "colab_type": "text"
      },
      "source": [
        "<a href=\"https://colab.research.google.com/github/tomasiamussuri/python_senai/blob/main/Aula_20240207ipynb.ipynb\" target=\"_parent\"><img src=\"https://colab.research.google.com/assets/colab-badge.svg\" alt=\"Open In Colab\"/></a>"
      ]
    },
    {
      "cell_type": "markdown",
      "source": [
        "1 - Construa um programa em Python utilizando os comandos prendidos até agora para encontrar todos os números pares entre 1 e 100.\n"
      ],
      "metadata": {
        "id": "LpKkVxOOlTyK"
      }
    },
    {
      "cell_type": "code",
      "execution_count": 2,
      "metadata": {
        "colab": {
          "base_uri": "https://localhost:8080/"
        },
        "id": "OksJf6PVlQgC",
        "outputId": "2b89549c-b2aa-47c8-f447-56d83c55351d"
      },
      "outputs": [
        {
          "output_type": "stream",
          "name": "stdout",
          "text": [
            "O número:  2  é par.\n",
            "O número:  4  é par.\n",
            "O número:  6  é par.\n",
            "O número:  8  é par.\n",
            "O número:  10  é par.\n",
            "O número:  12  é par.\n",
            "O número:  14  é par.\n",
            "O número:  16  é par.\n",
            "O número:  18  é par.\n",
            "O número:  20  é par.\n",
            "O número:  22  é par.\n",
            "O número:  24  é par.\n",
            "O número:  26  é par.\n",
            "O número:  28  é par.\n",
            "O número:  30  é par.\n",
            "O número:  32  é par.\n",
            "O número:  34  é par.\n",
            "O número:  36  é par.\n",
            "O número:  38  é par.\n",
            "O número:  40  é par.\n",
            "O número:  42  é par.\n",
            "O número:  44  é par.\n",
            "O número:  46  é par.\n",
            "O número:  48  é par.\n",
            "O número:  50  é par.\n",
            "O número:  52  é par.\n",
            "O número:  54  é par.\n",
            "O número:  56  é par.\n",
            "O número:  58  é par.\n",
            "O número:  60  é par.\n",
            "O número:  62  é par.\n",
            "O número:  64  é par.\n",
            "O número:  66  é par.\n",
            "O número:  68  é par.\n",
            "O número:  70  é par.\n",
            "O número:  72  é par.\n",
            "O número:  74  é par.\n",
            "O número:  76  é par.\n",
            "O número:  78  é par.\n",
            "O número:  80  é par.\n",
            "O número:  82  é par.\n",
            "O número:  84  é par.\n",
            "O número:  86  é par.\n",
            "O número:  88  é par.\n",
            "O número:  90  é par.\n",
            "O número:  92  é par.\n",
            "O número:  94  é par.\n",
            "O número:  96  é par.\n",
            "O número:  98  é par.\n"
          ]
        }
      ],
      "source": [
        "for numero in range(1, 100, 1):\n",
        "  if numero % 2 == 0:\n",
        "    print('O número: ', numero, ' é par.')"
      ]
    },
    {
      "cell_type": "markdown",
      "source": [
        "2 - Faça um programa em Python (utilize a estrutura for) que leia 10 valores inteiros e:\n",
        "\n",
        "* Encontre e mostre o maior valor\n",
        "* Encontre e mostre o menor valor\n",
        "* Calcule e mostre a média dos números lidos"
      ],
      "metadata": {
        "id": "_6pY24uYmMu6"
      }
    },
    {
      "cell_type": "code",
      "source": [
        "numeros = [3, 1, 10, 47, 5, 7, 24, 33, 6, 9]\n",
        "maiorNumero = 0\n",
        "menorNumero = 0\n",
        "soma = 0\n",
        "media = 0\n",
        "cont = 0\n",
        "\n",
        "for numero in numeros:\n",
        "  if cont == 0:\n",
        "    maiorNumero = numero\n",
        "    menorNumero = numero\n",
        "    soma += numero\n",
        "    cont += 1\n",
        "    media = soma / cont\n",
        "  else:\n",
        "    soma += numero\n",
        "    cont += 1\n",
        "    media = soma / cont\n",
        "    if numero > maiorNumero:\n",
        "      maiorNumero = numero\n",
        "      if numero < menorNumero:\n",
        "        menorNumero = numero\n",
        "    else:\n",
        "      if numero < menorNumero:\n",
        "        menorNumero = numero\n",
        "\n",
        "print('Maior número: {:}'.format(maiorNumero))\n",
        "print('Menor número: {:}'.format(menorNumero))\n",
        "print('Soma: {:}'.format(soma))\n",
        "print('Média: {:.2f}'.format(media))\n"
      ],
      "metadata": {
        "colab": {
          "base_uri": "https://localhost:8080/"
        },
        "id": "H8CMDqeZyUiZ",
        "outputId": "3fe37b87-feb7-414c-b97c-67bde209a904"
      },
      "execution_count": 22,
      "outputs": [
        {
          "output_type": "stream",
          "name": "stdout",
          "text": [
            "Maior número: 47\n",
            "Menor número: 1\n",
            "Soma: 145\n",
            "Média: 14.50\n"
          ]
        }
      ]
    },
    {
      "cell_type": "markdown",
      "source": [
        "3 - Faça um programa em Python que recebe a temperatura de z cliente e imprima a mensagem de: se temperatura normal (menor que 37,2º C) ou com febre (de 38º C a 39º C). No final mostre a quantidade de pessoas analisadas e a média de temperatura.\n"
      ],
      "metadata": {
        "id": "rSMmEDq8rXz5"
      }
    },
    {
      "cell_type": "code",
      "source": [
        "quantidade = int(input('Informe a quantidade de pessoas que deseja verificar: '))\n",
        "\n",
        "soma = 0\n",
        "media = 0\n",
        "\n",
        "for i in range(0, quantidade, 1):\n",
        "  temperatura = float(input('Informe a temperatura do cliente: '))\n",
        "  soma += temperatura\n",
        "  if temperatura < 37.2:\n",
        "    print('O cliente está com temperatura normal.')\n",
        "  elif temperatura < 38:\n",
        "    print('O cliente está com em estado febril.')\n",
        "  elif temperatura <= 39:\n",
        "    print('O cliente está com febre.')\n",
        "  else:\n",
        "    print('O cliente está com febre alta.')\n",
        "\n",
        "media = soma / quantidade\n",
        "print('Foram analisadas: {:} pessoas. E a média da temperatura é de {:.2f}º C.'.format(quantidade, media))\n",
        "\n",
        ""
      ],
      "metadata": {
        "colab": {
          "base_uri": "https://localhost:8080/"
        },
        "id": "d6KV-m25ru-G",
        "outputId": "6627880a-9c08-4fc9-b1bd-53d4b0b250e0"
      },
      "execution_count": 20,
      "outputs": [
        {
          "output_type": "stream",
          "name": "stdout",
          "text": [
            "Informe a quantidade de pessoas que deseja verificar: 3\n",
            "Informe a temperatura do cliente: 40\n",
            "Informe a temperatura do cliente: 32\n",
            "Temperatura Normal\n",
            "Informe a temperatura do cliente: 38.6\n",
            "Com febre\n",
            "Foram analisadas: 3 pessoas. E a média da temperatura é de 36.87 ºC.\n"
          ]
        }
      ]
    }
  ]
}
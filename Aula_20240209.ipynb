{
  "nbformat": 4,
  "nbformat_minor": 0,
  "metadata": {
    "colab": {
      "provenance": [],
      "authorship_tag": "ABX9TyMw1HrEMxewC01KXyDSBIF4",
      "include_colab_link": true
    },
    "kernelspec": {
      "name": "python3",
      "display_name": "Python 3"
    },
    "language_info": {
      "name": "python"
    }
  },
  "cells": [
    {
      "cell_type": "markdown",
      "metadata": {
        "id": "view-in-github",
        "colab_type": "text"
      },
      "source": [
        "<a href=\"https://colab.research.google.com/github/tomasiamussuri/python_senai/blob/main/Aula_20240209.ipynb\" target=\"_parent\"><img src=\"https://colab.research.google.com/assets/colab-badge.svg\" alt=\"Open In Colab\"/></a>"
      ]
    },
    {
      "cell_type": "markdown",
      "source": [
        "Criando uma lista vazia"
      ],
      "metadata": {
        "id": "jDkvvibGxO8P"
      }
    },
    {
      "cell_type": "code",
      "execution_count": 34,
      "metadata": {
        "colab": {
          "base_uri": "https://localhost:8080/"
        },
        "id": "IAc4klVfw5TI",
        "outputId": "076fa5d6-ad9b-4003-85ce-77caf165f5c8"
      },
      "outputs": [
        {
          "output_type": "stream",
          "name": "stdout",
          "text": [
            "['Banco do Brasil', 'Caixa', 'Santander']\n"
          ]
        }
      ],
      "source": [
        "lista = []\n",
        "bancos = ['Banco do Brasil', 'Caixa', 'Santander']\n",
        "print(bancos)"
      ]
    },
    {
      "cell_type": "markdown",
      "source": [
        "imprimindo um banco de acordo com a posição do índice."
      ],
      "metadata": {
        "id": "LDFStghJxpn_"
      }
    },
    {
      "cell_type": "code",
      "source": [
        "bancos[0]"
      ],
      "metadata": {
        "colab": {
          "base_uri": "https://localhost:8080/",
          "height": 35
        },
        "id": "PWIAjzA3xkx7",
        "outputId": "eb01896a-ec38-4777-8a32-c0098284131f"
      },
      "execution_count": null,
      "outputs": [
        {
          "output_type": "execute_result",
          "data": {
            "text/plain": [
              "'Banco do Brasil'"
            ],
            "application/vnd.google.colaboratory.intrinsic+json": {
              "type": "string"
            }
          },
          "metadata": {},
          "execution_count": 2
        }
      ]
    },
    {
      "cell_type": "markdown",
      "source": [
        "Incluindo um novo elemento no final de numa lista\n"
      ],
      "metadata": {
        "id": "JWpsE5x3zP4d"
      }
    },
    {
      "cell_type": "code",
      "source": [
        "lista = [4, 5, 3, 5]\n",
        "print(lista)\n",
        "lista.append(2)\n",
        "print(lista)\n",
        "lista.append(10)\n",
        "print(lista)"
      ],
      "metadata": {
        "colab": {
          "base_uri": "https://localhost:8080/"
        },
        "id": "R0-LwTuLzUEI",
        "outputId": "cd6a0b8c-d04e-4cb6-b0fa-03898f2b3c2e"
      },
      "execution_count": 48,
      "outputs": [
        {
          "output_type": "stream",
          "name": "stdout",
          "text": [
            "[4, 5, 3, 5]\n",
            "[4, 5, 3, 5, 2]\n",
            "[4, 5, 3, 5, 2, 10]\n"
          ]
        }
      ]
    },
    {
      "cell_type": "markdown",
      "source": [
        "Incluindo um novo elemento em uma posição (índice) específica"
      ],
      "metadata": {
        "id": "KKhCJu9vzenE"
      }
    },
    {
      "cell_type": "code",
      "source": [
        "lista.insert(2, -3)\n",
        "print(lista)"
      ],
      "metadata": {
        "colab": {
          "base_uri": "https://localhost:8080/"
        },
        "id": "vTpTpZrQzog6",
        "outputId": "e0355e69-aa89-4777-df07-7bbda3f0c8c4"
      },
      "execution_count": 49,
      "outputs": [
        {
          "output_type": "stream",
          "name": "stdout",
          "text": [
            "[4, 5, -3, 3, 5, 2, 10]\n"
          ]
        }
      ]
    },
    {
      "cell_type": "markdown",
      "source": [
        "Removendo um item na lista"
      ],
      "metadata": {
        "id": "hCvzD2a80PBG"
      }
    },
    {
      "cell_type": "code",
      "source": [
        "lista.remove(4)\n",
        "print(lista)\n",
        "lista.remove(-3)\n",
        "print(lista)"
      ],
      "metadata": {
        "colab": {
          "base_uri": "https://localhost:8080/"
        },
        "id": "bZsaO8HS0bRX",
        "outputId": "f0c034b9-f62c-491c-be48-87262e24207e"
      },
      "execution_count": 50,
      "outputs": [
        {
          "output_type": "stream",
          "name": "stdout",
          "text": [
            "[5, -3, 3, 5, 2, 10]\n",
            "[5, 3, 5, 2, 10]\n"
          ]
        }
      ]
    },
    {
      "cell_type": "markdown",
      "source": [
        "Organizar em ordem crescente"
      ],
      "metadata": {
        "id": "7NK6xa131U8K"
      }
    },
    {
      "cell_type": "code",
      "source": [
        "lista.sort()\n",
        "print(lista)"
      ],
      "metadata": {
        "colab": {
          "base_uri": "https://localhost:8080/"
        },
        "id": "S_kbi0NY1Vab",
        "outputId": "3ea47c67-4725-4755-f697-5802de181029"
      },
      "execution_count": 51,
      "outputs": [
        {
          "output_type": "stream",
          "name": "stdout",
          "text": [
            "[2, 3, 5, 5, 10]\n"
          ]
        }
      ]
    },
    {
      "cell_type": "markdown",
      "source": [
        "Organizar em ordem decrescente"
      ],
      "metadata": {
        "id": "kzqK_3Jm1sR9"
      }
    },
    {
      "cell_type": "code",
      "source": [
        "lista.reverse()\n",
        "print(lista)"
      ],
      "metadata": {
        "colab": {
          "base_uri": "https://localhost:8080/"
        },
        "id": "VaPX5Fo-1vr-",
        "outputId": "8112101d-8eb2-4483-a52a-bc77c45466e5"
      },
      "execution_count": 52,
      "outputs": [
        {
          "output_type": "stream",
          "name": "stdout",
          "text": [
            "[10, 5, 5, 3, 2]\n"
          ]
        }
      ]
    },
    {
      "cell_type": "markdown",
      "source": [
        "Verificando quantas vezes aparece o mesmo elemento na lista"
      ],
      "metadata": {
        "id": "usCiTev32fKz"
      }
    },
    {
      "cell_type": "code",
      "source": [
        "quantidade = lista.count(5)\n",
        "print(quantidade)"
      ],
      "metadata": {
        "colab": {
          "base_uri": "https://localhost:8080/"
        },
        "id": "GheSEHxm2oPY",
        "outputId": "9678a68b-ba9c-44be-f996-92f918ac53ca"
      },
      "execution_count": 53,
      "outputs": [
        {
          "output_type": "stream",
          "name": "stdout",
          "text": [
            "2\n"
          ]
        }
      ]
    },
    {
      "cell_type": "markdown",
      "source": [
        "Removendo o último elemento da lista"
      ],
      "metadata": {
        "id": "2GjhYYMN3H0T"
      }
    },
    {
      "cell_type": "code",
      "source": [
        "lista2 = lista.pop()\n",
        "print(lista)\n",
        "print(lista2)"
      ],
      "metadata": {
        "colab": {
          "base_uri": "https://localhost:8080/"
        },
        "id": "IVTmEmLu3wZq",
        "outputId": "3947d847-76a3-4328-e229-56a0b95a000c"
      },
      "execution_count": 54,
      "outputs": [
        {
          "output_type": "stream",
          "name": "stdout",
          "text": [
            "[10, 5, 5, 3]\n",
            "2\n"
          ]
        }
      ]
    },
    {
      "cell_type": "markdown",
      "source": [
        "Deletando um item na posição especifíca da lista"
      ],
      "metadata": {
        "id": "iMrOlyMD60Jp"
      }
    },
    {
      "cell_type": "code",
      "source": [
        "del lista [1]\n",
        "print(lista)"
      ],
      "metadata": {
        "colab": {
          "base_uri": "https://localhost:8080/"
        },
        "id": "FKU2n5IQ62A_",
        "outputId": "6c83934c-4367-4d03-e53c-b4d178da5bb0"
      },
      "execution_count": 55,
      "outputs": [
        {
          "output_type": "stream",
          "name": "stdout",
          "text": [
            "[10, 5, 3]\n"
          ]
        }
      ]
    },
    {
      "cell_type": "code",
      "source": [
        "print(lista)\n",
        "del lista[2:3]\n",
        "print(lista)"
      ],
      "metadata": {
        "colab": {
          "base_uri": "https://localhost:8080/"
        },
        "id": "kdZtzzYU8OMu",
        "outputId": "cf49ea5c-2dd2-44d4-ad7e-46f5e950edea"
      },
      "execution_count": 58,
      "outputs": [
        {
          "output_type": "stream",
          "name": "stdout",
          "text": [
            "[10, 5, 3]\n",
            "[10, 5]\n"
          ]
        }
      ]
    },
    {
      "cell_type": "markdown",
      "source": [
        "Limpando a lista"
      ],
      "metadata": {
        "id": "UMWVfukH8bDn"
      }
    },
    {
      "cell_type": "code",
      "source": [
        "lista.clear()\n",
        "print(lista)"
      ],
      "metadata": {
        "colab": {
          "base_uri": "https://localhost:8080/"
        },
        "id": "mCEZJJkC69u-",
        "outputId": "1d55735c-6493-4fd0-cf6a-2cf6f63213c5"
      },
      "execution_count": 60,
      "outputs": [
        {
          "output_type": "stream",
          "name": "stdout",
          "text": [
            "[]\n"
          ]
        }
      ]
    },
    {
      "cell_type": "markdown",
      "source": [
        "Lista dentro de uma lista"
      ],
      "metadata": {
        "id": "QBF9vxBl8vnP"
      }
    },
    {
      "cell_type": "code",
      "source": [
        "compra = [10.2, 3.35, 16.3, ['Tomate', 'Sabonete', 'Arroz']]\n",
        "print(compra)"
      ],
      "metadata": {
        "colab": {
          "base_uri": "https://localhost:8080/"
        },
        "id": "H_FkGNdt8ypc",
        "outputId": "522a2887-293b-4bc6-df18-cd527ad3ba22"
      },
      "execution_count": 61,
      "outputs": [
        {
          "output_type": "stream",
          "name": "stdout",
          "text": [
            "[10.2, 3.35, 16.3, ['Tomate', 'Sabonete', 'Arroz']]\n"
          ]
        }
      ]
    },
    {
      "cell_type": "code",
      "source": [
        "produtos = compra[3]\n",
        "print(produtos)"
      ],
      "metadata": {
        "colab": {
          "base_uri": "https://localhost:8080/"
        },
        "id": "THt_m72M9Ml6",
        "outputId": "2dc3bd0a-3f88-45f0-ead2-7c323d381f1c"
      },
      "execution_count": 62,
      "outputs": [
        {
          "output_type": "stream",
          "name": "stdout",
          "text": [
            "['Tomate', 'Sabonete', 'Arroz']\n"
          ]
        }
      ]
    },
    {
      "cell_type": "markdown",
      "source": [
        "Fazendo a soma dos elementos de uma lista"
      ],
      "metadata": {
        "id": "4jxgmK_r9quF"
      }
    },
    {
      "cell_type": "code",
      "source": [
        "total = compra[0] + compra[1] + compra[2]\n",
        "print(total)"
      ],
      "metadata": {
        "colab": {
          "base_uri": "https://localhost:8080/"
        },
        "id": "em4USlD89ugv",
        "outputId": "6ad445a0-8db8-4087-8815-ce49a3b288b1"
      },
      "execution_count": 63,
      "outputs": [
        {
          "output_type": "stream",
          "name": "stdout",
          "text": [
            "29.85\n"
          ]
        }
      ]
    },
    {
      "cell_type": "markdown",
      "source": [
        "Pegando um elemento de uma lista que estava dentro de outra lista"
      ],
      "metadata": {
        "id": "vCeP9GyV-rFn"
      }
    },
    {
      "cell_type": "code",
      "source": [
        "produto = produtos[0]\n",
        "print(produto)"
      ],
      "metadata": {
        "colab": {
          "base_uri": "https://localhost:8080/"
        },
        "id": "7rWNiHBR-U0g",
        "outputId": "bf84cfbb-24fe-4983-bfc9-f43607a4b441"
      },
      "execution_count": 64,
      "outputs": [
        {
          "output_type": "stream",
          "name": "stdout",
          "text": [
            "Tomate\n"
          ]
        }
      ]
    },
    {
      "cell_type": "markdown",
      "source": [
        "Verificando o tamanho de uma lista"
      ],
      "metadata": {
        "id": "Iw6hN_9Y-_pP"
      }
    },
    {
      "cell_type": "code",
      "source": [
        "print(len(lista))\n",
        "lista.append(1)\n",
        "lista.append(5)\n",
        "print(lista)\n",
        "print(len(lista))"
      ],
      "metadata": {
        "colab": {
          "base_uri": "https://localhost:8080/"
        },
        "id": "EdAf0p8L_DTD",
        "outputId": "b6218f86-4eca-43fa-cf4b-60a2d51f4d8a"
      },
      "execution_count": 77,
      "outputs": [
        {
          "output_type": "stream",
          "name": "stdout",
          "text": [
            "5\n",
            "[1, 1, 5, 1, 5, 1, 5]\n",
            "7\n"
          ]
        }
      ]
    },
    {
      "cell_type": "markdown",
      "source": [
        "Verificando o indice de um elemento"
      ],
      "metadata": {
        "id": "lcZNvOeH_gc8"
      }
    },
    {
      "cell_type": "code",
      "source": [
        "print(lista.index(1))"
      ],
      "metadata": {
        "colab": {
          "base_uri": "https://localhost:8080/"
        },
        "id": "6aEZD-2T_j4P",
        "outputId": "647a3e0e-6c24-4138-884f-08415aa50e9d"
      },
      "execution_count": 78,
      "outputs": [
        {
          "output_type": "stream",
          "name": "stdout",
          "text": [
            "0\n"
          ]
        }
      ]
    },
    {
      "cell_type": "markdown",
      "source": [
        "Verificando a existencia de um item na lista, e transformando o dado em letra minúscula e maiúscula."
      ],
      "metadata": {
        "id": "zJUO6W5i__Pw"
      }
    },
    {
      "cell_type": "code",
      "source": [
        "letras = ['a', 'b', 'c', 'd', 'e', 'f']\n",
        "var = input('Digite uma letra: ')\n",
        "\n",
        "if var.lower() in letras:\n",
        "  print('A letra {:} está na lista.'.format(var.upper()))\n",
        "else:\n",
        "  print('A letra {:} não está na lista.'.format(var.upper()))"
      ],
      "metadata": {
        "colab": {
          "base_uri": "https://localhost:8080/"
        },
        "id": "0TrJymrfAC9T",
        "outputId": "7932bf75-3cdb-44ba-9cfa-b7551c92508e"
      },
      "execution_count": 68,
      "outputs": [
        {
          "output_type": "stream",
          "name": "stdout",
          "text": [
            "Digite uma letra: b\n",
            "A letra B está na lista.\n"
          ]
        }
      ]
    },
    {
      "cell_type": "markdown",
      "source": [
        "Incluindo números em uma lista vazia"
      ],
      "metadata": {
        "id": "y5EP7M49Dhg0"
      }
    },
    {
      "cell_type": "code",
      "source": [
        "nova = []"
      ],
      "metadata": {
        "id": "CiVGufv5A1mF"
      },
      "execution_count": 84,
      "outputs": []
    },
    {
      "cell_type": "code",
      "source": [
        "while True:\n",
        "  num = int(input('Digite um número inteiro (0 - Parar): '))\n",
        "  if num == 0:\n",
        "    break\n",
        "  nova.append(num)\n",
        "print(nova)"
      ],
      "metadata": {
        "colab": {
          "base_uri": "https://localhost:8080/"
        },
        "id": "PNJO8FndD21H",
        "outputId": "a1d4e04b-2c72-405b-e50a-8ecabd14e736"
      },
      "execution_count": 86,
      "outputs": [
        {
          "output_type": "stream",
          "name": "stdout",
          "text": [
            "Digite um número inteiro (0 - Parar): 9\n",
            "Digite um número inteiro (0 - Parar): 2\n",
            "Digite um número inteiro (0 - Parar): 3\n",
            "Digite um número inteiro (0 - Parar): 0\n",
            "[9, 2, 3]\n"
          ]
        }
      ]
    },
    {
      "cell_type": "markdown",
      "source": [
        "Incluindo uma lista dentro da lista"
      ],
      "metadata": {
        "id": "WLTfDUTZGYgq"
      }
    },
    {
      "cell_type": "code",
      "source": [
        "nova.append([1, 'Tomasia'])\n",
        "print(nova)"
      ],
      "metadata": {
        "colab": {
          "base_uri": "https://localhost:8080/"
        },
        "id": "4_6pvEAZGI6R",
        "outputId": "dc684dd9-a974-466c-c74d-3facd44bfe66"
      },
      "execution_count": 87,
      "outputs": [
        {
          "output_type": "stream",
          "name": "stdout",
          "text": [
            "[9, 2, 3, [1, 'Tomasia']]\n"
          ]
        }
      ]
    }
  ]
}
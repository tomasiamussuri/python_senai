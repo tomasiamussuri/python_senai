{
  "nbformat": 4,
  "nbformat_minor": 0,
  "metadata": {
    "colab": {
      "provenance": [],
      "authorship_tag": "ABX9TyPiM5mZfuovJ91bDHFRjPtK",
      "include_colab_link": true
    },
    "kernelspec": {
      "name": "python3",
      "display_name": "Python 3"
    },
    "language_info": {
      "name": "python"
    }
  },
  "cells": [
    {
      "cell_type": "markdown",
      "metadata": {
        "id": "view-in-github",
        "colab_type": "text"
      },
      "source": [
        "<a href=\"https://colab.research.google.com/github/tomasiamussuri/python_senai/blob/main/Aula_20240219.ipynb\" target=\"_parent\"><img src=\"https://colab.research.google.com/assets/colab-badge.svg\" alt=\"Open In Colab\"/></a>"
      ]
    },
    {
      "cell_type": "code",
      "execution_count": 1,
      "metadata": {
        "colab": {
          "base_uri": "https://localhost:8080/"
        },
        "id": "5PrgBh_MknAO",
        "outputId": "c336c698-fca8-48f1-da3e-1b2ac9f4ea3d"
      },
      "outputs": [
        {
          "output_type": "stream",
          "name": "stdout",
          "text": [
            "Golf\n",
            "Corolla\n",
            "Civic\n",
            "Opala\n",
            "Tucson\n"
          ]
        }
      ],
      "source": [
        "tupla_carros = 'Golf', 'Corolla', 'Civic', 'Opala', \\\n",
        "                'Tucson', 'Elantra'\n",
        "\n",
        "for i in range(len(tupla_carros)):\n",
        "  print(tupla_carros[i])"
      ]
    },
    {
      "cell_type": "code",
      "source": [
        "carro1, carro2, *carros = tupla_carros"
      ],
      "metadata": {
        "id": "yfJvjDnFnfQy"
      },
      "execution_count": 7,
      "outputs": []
    },
    {
      "cell_type": "code",
      "source": [
        "print(f'Carro1: {carro1} e Carro2: {carro2}')"
      ],
      "metadata": {
        "colab": {
          "base_uri": "https://localhost:8080/"
        },
        "id": "b-ZbzyPOm7Y_",
        "outputId": "81b5f7c3-e88d-4c83-fa89-2f2a03baf844"
      },
      "execution_count": 8,
      "outputs": [
        {
          "output_type": "stream",
          "name": "stdout",
          "text": [
            "Carro1: Golf e Carro2: Corolla\n"
          ]
        }
      ]
    },
    {
      "cell_type": "code",
      "source": [
        "carro1"
      ],
      "metadata": {
        "colab": {
          "base_uri": "https://localhost:8080/",
          "height": 35
        },
        "id": "YLYRYQSNoDUD",
        "outputId": "3d3e74ba-3410-4f0d-b2c8-9ebb98a5cdbb"
      },
      "execution_count": 9,
      "outputs": [
        {
          "output_type": "execute_result",
          "data": {
            "text/plain": [
              "'Golf'"
            ],
            "application/vnd.google.colaboratory.intrinsic+json": {
              "type": "string"
            }
          },
          "metadata": {},
          "execution_count": 9
        }
      ]
    },
    {
      "cell_type": "code",
      "source": [
        "carros"
      ],
      "metadata": {
        "colab": {
          "base_uri": "https://localhost:8080/"
        },
        "id": "fFz_cW0toFAq",
        "outputId": "c0d4e51f-6125-49ac-beb2-d5f7dc448f8c"
      },
      "execution_count": 10,
      "outputs": [
        {
          "output_type": "execute_result",
          "data": {
            "text/plain": [
              "['Civic', 'Opala', 'Tucson']"
            ]
          },
          "metadata": {},
          "execution_count": 10
        }
      ]
    }
  ]
}
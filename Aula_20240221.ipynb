{
  "nbformat": 4,
  "nbformat_minor": 0,
  "metadata": {
    "colab": {
      "provenance": [],
      "authorship_tag": "ABX9TyOd783b2CCgJQ+kSM4GKg4j",
      "include_colab_link": true
    },
    "kernelspec": {
      "name": "python3",
      "display_name": "Python 3"
    },
    "language_info": {
      "name": "python"
    }
  },
  "cells": [
    {
      "cell_type": "markdown",
      "metadata": {
        "id": "view-in-github",
        "colab_type": "text"
      },
      "source": [
        "<a href=\"https://colab.research.google.com/github/tomasiamussuri/python_senai/blob/main/Aula_20240221.ipynb\" target=\"_parent\"><img src=\"https://colab.research.google.com/assets/colab-badge.svg\" alt=\"Open In Colab\"/></a>"
      ]
    },
    {
      "cell_type": "markdown",
      "source": [
        "Criando funções básicas de uma calculadora"
      ],
      "metadata": {
        "id": "bMH5Sggjkfwg"
      }
    },
    {
      "cell_type": "code",
      "execution_count": 1,
      "metadata": {
        "id": "lo2pyRbmjzVw"
      },
      "outputs": [],
      "source": [
        "def soma(n1, n2):\n",
        "  soma = n1 + n2\n",
        "  return soma"
      ]
    },
    {
      "cell_type": "code",
      "source": [
        "def subtracao(n1, n2):\n",
        "  subtracao = n1 - n2\n",
        "  return subtracao"
      ],
      "metadata": {
        "id": "RmtDPViBkk1X"
      },
      "execution_count": 2,
      "outputs": []
    },
    {
      "cell_type": "code",
      "source": [
        "def multiplicacao(n1, n2):\n",
        "  multiplicacao = n1 * n2\n",
        "  return multiplicacao"
      ],
      "metadata": {
        "id": "5uVnojZwmxjH"
      },
      "execution_count": 14,
      "outputs": []
    },
    {
      "cell_type": "code",
      "source": [
        "def divisao(n1, n2):\n",
        "  divisao = n1 / n2\n",
        "  return divisao"
      ],
      "metadata": {
        "id": "pWtcw76_m5VH"
      },
      "execution_count": 15,
      "outputs": []
    },
    {
      "cell_type": "code",
      "source": [
        "print('***** CALCULADORA *****')\n",
        "n1 = float(input('Digite um número: '))\n",
        "n2 = float(input('Digite outro número: '))\n",
        "operacao = int(input('''Digite 1 -> Soma\n",
        "       2 -> Subtração:\n",
        "       3 -> Multiplicação\n",
        "       4 -> Divisão '''))"
      ],
      "metadata": {
        "colab": {
          "base_uri": "https://localhost:8080/"
        },
        "id": "Oka6l-alk5k0",
        "outputId": "33e08b49-c365-4e72-d28c-993e19d9d622"
      },
      "execution_count": 21,
      "outputs": [
        {
          "name": "stdout",
          "output_type": "stream",
          "text": [
            "***** CALCULADORA *****\n",
            "Digite um número: 6\n",
            "Digite outro número: 7\n",
            "Digite 1 -> Soma\n",
            "       2 -> Subtração: \n",
            "       3 -> Multiplicação\n",
            "       4-> Divisão 4\n"
          ]
        }
      ]
    },
    {
      "cell_type": "code",
      "source": [
        "if operacao == 1:\n",
        "  print(f'A soma de {n1} + {n2} = {soma(n1, n2):.2f}')\n",
        "elif operacao == 2:\n",
        "  print(f'A subtracao de {n1} - {n2} = {subtracao(n1, n2):.2f}')\n",
        "elif operacao == 3:\n",
        "  print(f'A multiplicação de {n1} + {n2} = {multiplicacao(n1, n2):.2f}')\n",
        "elif operacao == 4:\n",
        "  print(f'A divisao de {n1} + {n2} = {divisao(n1, n2):.2f}')\n",
        "else:\n",
        "  print('Código da operação inválido')"
      ],
      "metadata": {
        "colab": {
          "base_uri": "https://localhost:8080/"
        },
        "id": "zuWACovtlR9u",
        "outputId": "e99311f5-0816-4734-d059-cf5ad23f9ebe"
      },
      "execution_count": 27,
      "outputs": [
        {
          "output_type": "stream",
          "name": "stdout",
          "text": [
            "A divisao de 6.0 + 7.0 = 0.86\n"
          ]
        }
      ]
    },
    {
      "cell_type": "code",
      "source": [
        "valor = 100.00\n",
        "\n",
        "def calculo():\n",
        "  #global valor\n",
        "  valor = 50.00\n",
        "  return valor\n",
        "\n",
        "print(valor)\n",
        "print(calculo())"
      ],
      "metadata": {
        "colab": {
          "base_uri": "https://localhost:8080/"
        },
        "id": "rfeZJpLe0Cvp",
        "outputId": "912050a8-3650-4b10-95e3-ec3e8efb98ad"
      },
      "execution_count": 39,
      "outputs": [
        {
          "output_type": "stream",
          "name": "stdout",
          "text": [
            "100.0\n",
            "50.0\n"
          ]
        }
      ]
    },
    {
      "cell_type": "markdown",
      "source": [
        "Escreva um programa que compare duas listas. Considere a primeira lista como a versão inicial e a segunda como a versão após alterações. Utilizando operações com conjuntos, seu programa deverá imprimir a lista de modificações entre essas duas versões, listando:\n",
        "• os elementos que não mudaram\n",
        "• os novos elementos\n",
        "• os elementos que foram removidos"
      ],
      "metadata": {
        "id": "u4NbWxraDbJc"
      }
    },
    {
      "cell_type": "code",
      "source": [
        "lista1 = [0, 1, 2, 3, 4, 5]\n",
        "lista2 = [0, 2, 6, 8, 10, 16]\n",
        "listaNaoAlterados = []\n",
        "listaIncluidos = []\n",
        "listaRemovidos = []\n",
        "\n",
        "for i in lista1:\n",
        "  if i in lista2:\n",
        "    listaNaoAlterados.append(i)\n",
        "  if i not in lista2:\n",
        "    listaRemovidos.append(i)\n",
        "for i in lista2:\n",
        "  if i not in lista1:\n",
        "    listaIncluidos.append(i)\n",
        "\n",
        "print('Não alterados: ', listaNaoAlterados)\n",
        "print('Incluidos: ', listaIncluidos)\n",
        "print('Excluidos: ', listaRemovidos)"
      ],
      "metadata": {
        "colab": {
          "base_uri": "https://localhost:8080/"
        },
        "id": "nPtlxGAUDcFE",
        "outputId": "128c35a8-faa5-443f-b908-9ec41ab09f0b"
      },
      "execution_count": 66,
      "outputs": [
        {
          "output_type": "stream",
          "name": "stdout",
          "text": [
            "Não alterados:  [0, 2]\n",
            "Incluidos:  [6, 8, 10, 16]\n",
            "Excluidos:  [1, 3, 4, 5]\n"
          ]
        }
      ]
    }
  ]
}
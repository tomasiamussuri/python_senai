{
  "nbformat": 4,
  "nbformat_minor": 0,
  "metadata": {
    "colab": {
      "provenance": [],
      "authorship_tag": "ABX9TyMjLIBoDFLL+mawuSV0cnzR",
      "include_colab_link": true
    },
    "kernelspec": {
      "name": "python3",
      "display_name": "Python 3"
    },
    "language_info": {
      "name": "python"
    }
  },
  "cells": [
    {
      "cell_type": "markdown",
      "metadata": {
        "id": "view-in-github",
        "colab_type": "text"
      },
      "source": [
        "<a href=\"https://colab.research.google.com/github/tomasiamussuri/python_senai/blob/main/Aula_20240222.ipynb\" target=\"_parent\"><img src=\"https://colab.research.google.com/assets/colab-badge.svg\" alt=\"Open In Colab\"/></a>"
      ]
    },
    {
      "cell_type": "code",
      "execution_count": null,
      "metadata": {
        "colab": {
          "base_uri": "https://localhost:8080/"
        },
        "id": "mp_DwHZpwyBG",
        "outputId": "59728cfd-f723-48d4-9f67-5fc8da50d401"
      },
      "outputs": [
        {
          "output_type": "stream",
          "name": "stdout",
          "text": [
            "66\n"
          ]
        }
      ],
      "source": [
        "soma = lambda lista: sum(lista)\n",
        "numeros = [1, 5, 10, 50]\n",
        "total = soma(numeros)\n",
        "print(total)"
      ]
    },
    {
      "cell_type": "code",
      "source": [
        "numeros = [80, 74, 25]\n",
        "total = soma(numeros)\n",
        "print(total)"
      ],
      "metadata": {
        "colab": {
          "base_uri": "https://localhost:8080/"
        },
        "id": "ODRTI9Jhw7A0",
        "outputId": "0dfb5371-0fe8-40dc-e7c1-fd1d5f8fd253"
      },
      "execution_count": null,
      "outputs": [
        {
          "output_type": "stream",
          "name": "stdout",
          "text": [
            "179\n"
          ]
        }
      ]
    },
    {
      "cell_type": "markdown",
      "source": [
        "1 - Faça um programa, com uma função que necessite de um argumento. A função retorna o valor de caractere 'P', se seu argumento for positivo, e 'N', se seu argumento for zero ou negativo."
      ],
      "metadata": {
        "id": "bWPOiqj_8maG"
      }
    },
    {
      "cell_type": "code",
      "source": [
        "numero = int(input('Digite um número: '))\n",
        "if numero > 0:\n",
        "  print('P')\n",
        "else:\n",
        "  print('N')"
      ],
      "metadata": {
        "colab": {
          "base_uri": "https://localhost:8080/"
        },
        "id": "jkDwJCeNylxI",
        "outputId": "f714686e-0387-4b0f-9fab-d7af73d21932"
      },
      "execution_count": null,
      "outputs": [
        {
          "output_type": "stream",
          "name": "stdout",
          "text": [
            "Digite um número: 0\n",
            "N\n"
          ]
        }
      ]
    },
    {
      "cell_type": "markdown",
      "source": [
        "2 - Faça um programa com uma função chamada somaImposto. A função possui dois parametros formais: taxaImposto, que é a quantia de imposto sobre vendas expressa em porcentagem e custo, que é o custo de um item antes do imposto. A função \"altera\" o valor de custo para incluir o imposto sobre vendas."
      ],
      "metadata": {
        "id": "ks3bwgWR9XPY"
      }
    },
    {
      "cell_type": "code",
      "source": [
        "custo = float(input('Informe o valor do custo: '))\n",
        "taxaImposto = float(input('Digite a taxa do imposto: '))\n",
        "\n",
        "def somaImposto(custo, taxaImposto):\n",
        "  custo = custo + (custo * (taxaImposto / 100))\n",
        "  return custo\n",
        "print(somaImposto(custo, taxaImposto))"
      ],
      "metadata": {
        "colab": {
          "base_uri": "https://localhost:8080/"
        },
        "id": "IZ7TqSoMyrg_",
        "outputId": "87048991-e337-4772-8a50-1d4e6dfa426f"
      },
      "execution_count": null,
      "outputs": [
        {
          "output_type": "stream",
          "name": "stdout",
          "text": [
            "Informe o valor do custo: 100\n",
            "Digite a taxa do imposto: 16\n",
            "116.0\n"
          ]
        }
      ]
    },
    {
      "cell_type": "markdown",
      "source": [
        "3 - Faça um programa que use a função valorPagamento para determinar o valor a ser pago por uma prestação de uma conta. O programa deverá solicitar ao usuário o valor da prestação e o número de dias em atraso e passar estes valores para a função valorPagamento, que calculará o valor a ser pago e devolverá este valor ao programa que a chamou. O programa deverá então exibir o valor a ser pago na tela. Após a execução o programa deverá voltar a pedir outro valor de prestação e assim continuar até que seja formado um valor igual a zero para a prestação. Neste momento o programa deverá ser encerrado, exibindo o relatório do dia, que conterá a quantidade e o valor total de prestações pagas no dia. O cálculo do valor a ser pago é feito da seguinte forma. Para pagamentos sem atraso, cobrar o valor da prestação. Quando houver atraso, cobrar 3% de multa, mais 0,1% de juros\n",
        "por dia de atraso."
      ],
      "metadata": {
        "id": "8pc9FjLECNjj"
      }
    },
    {
      "cell_type": "code",
      "source": [
        "valoresPagos = []                                                                # variavel (lista) criada para armazenar os valores pagos\n",
        "quantidadePagamentos = 0                                                         # variavel criada para contar a quantidade de pagamentos realizada\n",
        "\n",
        "def valorPagamento(valorPrestacao, diasAtraso):                                  # criada função para atualizar valor da prestação de acordo com a quantidade de dias de atraso\n",
        "  if diasAtraso > 0:                                                             # se quantidade de dias em atraso maior que zero o função calcula multa, juros e valor total a pagar\n",
        "    multa = valorPrestacao * (3 / 100)                                           # calculando multa por atraso\n",
        "    juros = valorPrestacao * ((0.1 / 100) * diasAtraso)                          # calculando juros por atraso\n",
        "    valorAtualizado = valorPrestacao + multa + juros                             # calculando o valor total a pagar\n",
        "    return valorAtualizado                                                       # retorna valor total a pagar\n",
        "  else:                                                                          # se quantidade igual a zero o valor total a pagar será igual ao valor da prestação\n",
        "    return valorPrestacao                                                        # retorna valor a pagar\n",
        "\n",
        "while True:                                                                      # criando um laço de repetição para solicitar ao usuário a operação que deseja realizar\n",
        "  opcao = int(input(                                                             # exibindo as opções disponíveis\n",
        "          '''\n",
        "          *** BANCO DIGITAL ***\n",
        "          Digite a opção desejada:\n",
        "          1 -> Realizar pagamento\n",
        "          0 -> Finalizar pagamentos\n",
        "          '''))\n",
        "  if opcao == 1:                                                                 # criando condicional para verificar se a opcao escolhida for igual a 1 (realizar pagamento), solicita ao usuário o valor da prestação e a quantidade de dias em atraso\n",
        "    valorPrestacao = float(input('Informe o valor da prestação: R$ '))\n",
        "    diasAtraso = int(input('Informe a quantidade de dias em atraso: '))\n",
        "\n",
        "    if diasAtraso < 0:                                                           # criando condicional para verificar se a quantidade de dias em atraso for menor que zero, exibe mensagem ao usuário informando que a quantidade digitada é inválida\n",
        "      print('Quantidade de dias inválido, tente novamente!')\n",
        "    else:                                                                        # se quantidade de dias maior ou igual a zero, guarda o valor a pagar na variavel (lista) e soma 1 na quantidade de pagamentos realizados\n",
        "      valoresPagos.append(valorPagamento(valorPrestacao, diasAtraso))\n",
        "      quantidadePagamentos = quantidadePagamentos + 1\n",
        "  elif opcao == 0:                                                               # se opcao igual a zero, o programa exibe o resumo com todos os pagamentos realizados, soma e quantidade total e finaliza\n",
        "    print()\n",
        "    print('***** RESUMO DE PAGAMENTO DO DIA *****')\n",
        "    soma = lambda pagamentos: sum(pagamentos)\n",
        "    total = soma(valoresPagos)\n",
        "    print(valoresPagos)\n",
        "    print(f'Total Recebido', total)\n",
        "    print(f'Quantidade Pagamentos', quantidadePagamentos)\n",
        "    break\n",
        "  else:                                                                          # se opcao diferente de 0 ou 1 o sistema exibe mensagem de opção inválida e pede para o usuário tentar nvoamente\n",
        "    print('Opção inválida, tente novamente!')\n",
        "\n",
        "\n",
        "\n"
      ],
      "metadata": {
        "colab": {
          "base_uri": "https://localhost:8080/",
          "height": 755
        },
        "id": "k3V3-wgrL5Ch",
        "outputId": "b19fdf07-6e69-4d18-f22e-bb96cc9441dc"
      },
      "execution_count": 45,
      "outputs": [
        {
          "output_type": "stream",
          "name": "stdout",
          "text": [
            "                                                           \n",
            "          *** BANCO DIGITAL ***\n",
            "          Digite a opção desejada:\n",
            "          1 -> Realizar pagamento\n",
            "          0 -> Finalizar pagamentos\n",
            "          2\n",
            "Opção inválida, tente novamente!\n",
            "                                                           \n",
            "          *** BANCO DIGITAL ***\n",
            "          Digite a opção desejada:\n",
            "          1 -> Realizar pagamento\n",
            "          0 -> Finalizar pagamentos\n",
            "          3\n",
            "Opção inválida, tente novamente!\n",
            "                                                           \n",
            "          *** BANCO DIGITAL ***\n",
            "          Digite a opção desejada:\n",
            "          1 -> Realizar pagamento\n",
            "          0 -> Finalizar pagamentos\n",
            "          1\n",
            "Informe o valor da prestação: R$ 100\n",
            "Informe a quantidade de dias em atraso: -5\n",
            "Quantidade inválida, tente novamente!\n"
          ]
        },
        {
          "output_type": "error",
          "ename": "KeyboardInterrupt",
          "evalue": "Interrupted by user",
          "traceback": [
            "\u001b[0;31m---------------------------------------------------------------------------\u001b[0m",
            "\u001b[0;31mKeyboardInterrupt\u001b[0m                         Traceback (most recent call last)",
            "\u001b[0;32m<ipython-input-45-ee23c7f8e64b>\u001b[0m in \u001b[0;36m<cell line: 13>\u001b[0;34m()\u001b[0m\n\u001b[1;32m     12\u001b[0m \u001b[0;34m\u001b[0m\u001b[0m\n\u001b[1;32m     13\u001b[0m \u001b[0;32mwhile\u001b[0m \u001b[0;32mTrue\u001b[0m\u001b[0;34m:\u001b[0m                                                                      \u001b[0;31m# criando um laço de repetição para solicitar ao usuário a operação que deseja realizar\u001b[0m\u001b[0;34m\u001b[0m\u001b[0;34m\u001b[0m\u001b[0m\n\u001b[0;32m---> 14\u001b[0;31m   opcao = int(input(                                                             # exibindo as opções disponíveis\n\u001b[0m\u001b[1;32m     15\u001b[0m           '''                                                           \n\u001b[1;32m     16\u001b[0m           \u001b[0;34m**\u001b[0m\u001b[0;34m*\u001b[0m \u001b[0mBANCO\u001b[0m \u001b[0mDIGITAL\u001b[0m \u001b[0;34m**\u001b[0m\u001b[0;34m*\u001b[0m\u001b[0;34m\u001b[0m\u001b[0;34m\u001b[0m\u001b[0m\n",
            "\u001b[0;32m/usr/local/lib/python3.10/dist-packages/ipykernel/kernelbase.py\u001b[0m in \u001b[0;36mraw_input\u001b[0;34m(self, prompt)\u001b[0m\n\u001b[1;32m    849\u001b[0m                 \u001b[0;34m\"raw_input was called, but this frontend does not support input requests.\"\u001b[0m\u001b[0;34m\u001b[0m\u001b[0;34m\u001b[0m\u001b[0m\n\u001b[1;32m    850\u001b[0m             )\n\u001b[0;32m--> 851\u001b[0;31m         return self._input_request(str(prompt),\n\u001b[0m\u001b[1;32m    852\u001b[0m             \u001b[0mself\u001b[0m\u001b[0;34m.\u001b[0m\u001b[0m_parent_ident\u001b[0m\u001b[0;34m,\u001b[0m\u001b[0;34m\u001b[0m\u001b[0;34m\u001b[0m\u001b[0m\n\u001b[1;32m    853\u001b[0m             \u001b[0mself\u001b[0m\u001b[0;34m.\u001b[0m\u001b[0m_parent_header\u001b[0m\u001b[0;34m,\u001b[0m\u001b[0;34m\u001b[0m\u001b[0;34m\u001b[0m\u001b[0m\n",
            "\u001b[0;32m/usr/local/lib/python3.10/dist-packages/ipykernel/kernelbase.py\u001b[0m in \u001b[0;36m_input_request\u001b[0;34m(self, prompt, ident, parent, password)\u001b[0m\n\u001b[1;32m    893\u001b[0m             \u001b[0;32mexcept\u001b[0m \u001b[0mKeyboardInterrupt\u001b[0m\u001b[0;34m:\u001b[0m\u001b[0;34m\u001b[0m\u001b[0;34m\u001b[0m\u001b[0m\n\u001b[1;32m    894\u001b[0m                 \u001b[0;31m# re-raise KeyboardInterrupt, to truncate traceback\u001b[0m\u001b[0;34m\u001b[0m\u001b[0;34m\u001b[0m\u001b[0m\n\u001b[0;32m--> 895\u001b[0;31m                 \u001b[0;32mraise\u001b[0m \u001b[0mKeyboardInterrupt\u001b[0m\u001b[0;34m(\u001b[0m\u001b[0;34m\"Interrupted by user\"\u001b[0m\u001b[0;34m)\u001b[0m \u001b[0;32mfrom\u001b[0m \u001b[0;32mNone\u001b[0m\u001b[0;34m\u001b[0m\u001b[0;34m\u001b[0m\u001b[0m\n\u001b[0m\u001b[1;32m    896\u001b[0m             \u001b[0;32mexcept\u001b[0m \u001b[0mException\u001b[0m \u001b[0;32mas\u001b[0m \u001b[0me\u001b[0m\u001b[0;34m:\u001b[0m\u001b[0;34m\u001b[0m\u001b[0;34m\u001b[0m\u001b[0m\n\u001b[1;32m    897\u001b[0m                 \u001b[0mself\u001b[0m\u001b[0;34m.\u001b[0m\u001b[0mlog\u001b[0m\u001b[0;34m.\u001b[0m\u001b[0mwarning\u001b[0m\u001b[0;34m(\u001b[0m\u001b[0;34m\"Invalid Message:\"\u001b[0m\u001b[0;34m,\u001b[0m \u001b[0mexc_info\u001b[0m\u001b[0;34m=\u001b[0m\u001b[0;32mTrue\u001b[0m\u001b[0;34m)\u001b[0m\u001b[0;34m\u001b[0m\u001b[0;34m\u001b[0m\u001b[0m\n",
            "\u001b[0;31mKeyboardInterrupt\u001b[0m: Interrupted by user"
          ]
        }
      ]
    }
  ]
}
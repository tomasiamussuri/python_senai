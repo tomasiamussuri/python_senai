{
  "nbformat": 4,
  "nbformat_minor": 0,
  "metadata": {
    "colab": {
      "provenance": [],
      "authorship_tag": "ABX9TyNxW8YwgxGj3YgkFpZC/vYZ",
      "include_colab_link": true
    },
    "kernelspec": {
      "name": "python3",
      "display_name": "Python 3"
    },
    "language_info": {
      "name": "python"
    }
  },
  "cells": [
    {
      "cell_type": "markdown",
      "metadata": {
        "id": "view-in-github",
        "colab_type": "text"
      },
      "source": [
        "<a href=\"https://colab.research.google.com/github/tomasiamussuri/python_senai/blob/main/Aula_20240223.ipynb\" target=\"_parent\"><img src=\"https://colab.research.google.com/assets/colab-badge.svg\" alt=\"Open In Colab\"/></a>"
      ]
    },
    {
      "cell_type": "markdown",
      "source": [
        "criando variáveis com informação de endereço"
      ],
      "metadata": {
        "id": "yG-0Hepk3vNZ"
      }
    },
    {
      "cell_type": "code",
      "execution_count": null,
      "metadata": {
        "id": "FlmDamoF07hM"
      },
      "outputs": [],
      "source": [
        "estado = 'SP'\n",
        "cidade = 'Sao Paulo'\n",
        "endereco = 'Rua Candido Padim, 25, Vila Prado'\n",
        "completo = endereco + ', ' + cidade + ' - ' + estado\n",
        "\n",
        "print(completo)"
      ]
    },
    {
      "cell_type": "markdown",
      "source": [
        "usando o método startswitch para verificar *se* o conteudo da variavel cidade começa com 'Sao'"
      ],
      "metadata": {
        "id": "to86J2Lx3yvw"
      }
    },
    {
      "cell_type": "code",
      "source": [
        "print(cidade.startswith('Sao'))"
      ],
      "metadata": {
        "id": "bWAtxu4U2VFa"
      },
      "execution_count": null,
      "outputs": []
    },
    {
      "cell_type": "markdown",
      "source": [
        "usando o método endswitch para verificar se o conteudo da variavel cidade termina com 'lo'"
      ],
      "metadata": {
        "id": "_lyq8GWo3bNn"
      }
    },
    {
      "cell_type": "code",
      "source": [
        "print(cidade.endswith('lo'))"
      ],
      "metadata": {
        "id": "DUIQGIrB2nSC"
      },
      "execution_count": null,
      "outputs": []
    },
    {
      "cell_type": "markdown",
      "source": [
        "verificando se a string 'Rua' consta dentro da variavel completo"
      ],
      "metadata": {
        "id": "I7Nq8d6X3S4l"
      }
    },
    {
      "cell_type": "code",
      "source": [
        "print('Rua' in completo)"
      ],
      "metadata": {
        "id": "FieRW-1d2zPC"
      },
      "execution_count": null,
      "outputs": []
    },
    {
      "cell_type": "markdown",
      "source": [
        "verificando se a string 'Avenida' não consta dentro da variavel completo"
      ],
      "metadata": {
        "id": "cuEtjSVY3LVp"
      }
    },
    {
      "cell_type": "code",
      "source": [
        "print('Avenida' not in completo)"
      ],
      "metadata": {
        "id": "23_tc4iY3CBE"
      },
      "execution_count": null,
      "outputs": []
    },
    {
      "cell_type": "markdown",
      "source": [
        "usando o método count para contar quantas vezes um determinado caracter aparece em uma string"
      ],
      "metadata": {
        "id": "WyezFeT-4Sep"
      }
    },
    {
      "cell_type": "code",
      "source": [
        "texto = 'Python é uma linguagem de programação. Python é simples. Pyton é organizado.'\n",
        "print(texto.count('é'))"
      ],
      "metadata": {
        "id": "IwFhtIRs4RmR"
      },
      "execution_count": null,
      "outputs": []
    },
    {
      "cell_type": "markdown",
      "source": [
        "usando os métodos find e rfind para buscar em uma string em qual posição inicia a string procurada, sendo find para achar a primeira ocorrenda e rfind para achar a última ocorrência"
      ],
      "metadata": {
        "id": "sHst7vmu4f8d"
      }
    },
    {
      "cell_type": "code",
      "source": [
        "texto = 'Python é uma linguagem de programação. Python é simples. Python é organizado.'\n",
        "print(texto.find('Python'))\n",
        "print(texto.rfind('Python'))"
      ],
      "metadata": {
        "id": "-0BPLQCW6Lss"
      },
      "execution_count": null,
      "outputs": []
    },
    {
      "cell_type": "markdown",
      "source": [
        "usando o métodos index e rindex pra achar o índice de uma string (mesmo conceito do find)"
      ],
      "metadata": {
        "id": "wO-IIUCe9A2x"
      }
    },
    {
      "cell_type": "code",
      "source": [
        "print(texto.index('Python'))\n",
        "print(texto.rindex('Python'))"
      ],
      "metadata": {
        "id": "BRkLjtwt9Tth"
      },
      "execution_count": null,
      "outputs": []
    }
  ]
}
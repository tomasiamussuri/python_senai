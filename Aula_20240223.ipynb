{
  "nbformat": 4,
  "nbformat_minor": 0,
  "metadata": {
    "colab": {
      "provenance": [],
      "authorship_tag": "ABX9TyMSlFRxFn+UvqL7bvYHz+77",
      "include_colab_link": true
    },
    "kernelspec": {
      "name": "python3",
      "display_name": "Python 3"
    },
    "language_info": {
      "name": "python"
    }
  },
  "cells": [
    {
      "cell_type": "markdown",
      "metadata": {
        "id": "view-in-github",
        "colab_type": "text"
      },
      "source": [
        "<a href=\"https://colab.research.google.com/github/tomasiamussuri/python_senai/blob/main/Aula_20240223.ipynb\" target=\"_parent\"><img src=\"https://colab.research.google.com/assets/colab-badge.svg\" alt=\"Open In Colab\"/></a>"
      ]
    },
    {
      "cell_type": "markdown",
      "source": [
        "criando variáveis com informação de endereço"
      ],
      "metadata": {
        "id": "yG-0Hepk3vNZ"
      }
    },
    {
      "cell_type": "code",
      "execution_count": null,
      "metadata": {
        "id": "FlmDamoF07hM"
      },
      "outputs": [],
      "source": [
        "estado = 'SP'\n",
        "cidade = 'Sao Paulo'\n",
        "endereco = 'Rua Candido Padim, 25, Vila Prado'\n",
        "completo = endereco + ', ' + cidade + ' - ' + estado\n",
        "\n",
        "print(completo)"
      ]
    },
    {
      "cell_type": "markdown",
      "source": [
        "usando o método startswitch para verificar *se* o conteudo da variavel cidade começa com 'Sao'"
      ],
      "metadata": {
        "id": "to86J2Lx3yvw"
      }
    },
    {
      "cell_type": "code",
      "source": [
        "print(cidade.startswith('Sao'))"
      ],
      "metadata": {
        "id": "bWAtxu4U2VFa"
      },
      "execution_count": null,
      "outputs": []
    },
    {
      "cell_type": "markdown",
      "source": [
        "usando o método endswitch para verificar se o conteudo da variavel cidade termina com 'lo'"
      ],
      "metadata": {
        "id": "_lyq8GWo3bNn"
      }
    },
    {
      "cell_type": "code",
      "source": [
        "print(cidade.endswith('lo'))"
      ],
      "metadata": {
        "id": "DUIQGIrB2nSC"
      },
      "execution_count": null,
      "outputs": []
    },
    {
      "cell_type": "markdown",
      "source": [
        "verificando se a string 'Rua' consta dentro da variavel completo"
      ],
      "metadata": {
        "id": "I7Nq8d6X3S4l"
      }
    },
    {
      "cell_type": "code",
      "source": [
        "print('Rua' in completo)"
      ],
      "metadata": {
        "id": "FieRW-1d2zPC"
      },
      "execution_count": null,
      "outputs": []
    },
    {
      "cell_type": "markdown",
      "source": [
        "verificando se a string 'Avenida' não consta dentro da variavel completo"
      ],
      "metadata": {
        "id": "cuEtjSVY3LVp"
      }
    },
    {
      "cell_type": "code",
      "source": [
        "print('Avenida' not in completo)"
      ],
      "metadata": {
        "id": "23_tc4iY3CBE"
      },
      "execution_count": null,
      "outputs": []
    },
    {
      "cell_type": "markdown",
      "source": [
        "usando o método count para contar quantas vezes um determinado caracter aparece em uma string"
      ],
      "metadata": {
        "id": "WyezFeT-4Sep"
      }
    },
    {
      "cell_type": "code",
      "source": [
        "texto = 'Python é uma linguagem de programação. Python é simples. Pyton é organizado.'\n",
        "print(texto.count('é'))"
      ],
      "metadata": {
        "id": "IwFhtIRs4RmR"
      },
      "execution_count": null,
      "outputs": []
    },
    {
      "cell_type": "markdown",
      "source": [
        "usando os métodos find e rfind para buscar em uma string em qual posição inicia a string procurada, sendo find para achar a primeira ocorrenda e rfind para achar a última ocorrência"
      ],
      "metadata": {
        "id": "sHst7vmu4f8d"
      }
    },
    {
      "cell_type": "code",
      "source": [
        "texto = 'Python é uma linguagem de programação. Python é simples. Python é organizado.'\n",
        "print(texto.find('Python'))\n",
        "print(texto.rfind('Python'))"
      ],
      "metadata": {
        "id": "-0BPLQCW6Lss"
      },
      "execution_count": null,
      "outputs": []
    },
    {
      "cell_type": "markdown",
      "source": [
        "usando o métodos index e rindex pra achar o índice de uma string (mesmo conceito do find)"
      ],
      "metadata": {
        "id": "wO-IIUCe9A2x"
      }
    },
    {
      "cell_type": "code",
      "source": [
        "print(texto.index('Python'))\n",
        "print(texto.rindex('Python'))"
      ],
      "metadata": {
        "id": "BRkLjtwt9Tth"
      },
      "execution_count": null,
      "outputs": []
    },
    {
      "cell_type": "markdown",
      "source": [
        "Pocisionamento de Strings\n",
        "* center -> centraliza o texto dentro do tamanho da string\n",
        "* ljust -> ajusta o texto a esquerda\n",
        "* rjust -> ajusta o texto a direita"
      ],
      "metadata": {
        "id": "mB4MQmwG-RO0"
      }
    },
    {
      "cell_type": "code",
      "source": [
        "texto = 'Olá mundo!'\n",
        "texto_centro = texto.center(20)\n",
        "texto_centro2 = texto.center(50, '*')\n",
        "texto_esquerda = texto.ljust(30)\n",
        "texto_direita = texto.rjust(30)\n",
        "\n",
        "print(texto)\n",
        "print(texto_centro)\n",
        "print(texto_centro2)\n",
        "print(texto_esquerda)\n",
        "print(texto_direita)"
      ],
      "metadata": {
        "colab": {
          "base_uri": "https://localhost:8080/"
        },
        "id": "FlnQTDYR-chW",
        "outputId": "2cc36ccb-465a-4a02-d988-c78cef0d30b3"
      },
      "execution_count": 36,
      "outputs": [
        {
          "output_type": "stream",
          "name": "stdout",
          "text": [
            "Olá mundo!\n",
            "     Olá mundo!     \n",
            "********************Olá mundo!********************\n",
            "Olá mundo!                    \n",
            "                    Olá mundo!\n"
          ]
        }
      ]
    },
    {
      "cell_type": "markdown",
      "source": [
        "separação das strings usando o método split"
      ],
      "metadata": {
        "id": "tQwsL_UZBFwW"
      }
    },
    {
      "cell_type": "code",
      "source": [
        "nomes = 'João Paulo/Maria Clara/José Silva/Ana Beatriz/José Pedro'\n",
        "\n",
        "print(nomes.split(' '))"
      ],
      "metadata": {
        "colab": {
          "base_uri": "https://localhost:8080/"
        },
        "id": "rmtAfM7HBIMh",
        "outputId": "abc86a4a-be20-441b-f21d-79b000302412"
      },
      "execution_count": 40,
      "outputs": [
        {
          "output_type": "stream",
          "name": "stdout",
          "text": [
            "['João', 'Paulo/Maria', 'Clara/José', 'Silva/Ana', 'Beatriz/José', 'Pedro']\n"
          ]
        }
      ]
    },
    {
      "cell_type": "markdown",
      "source": [
        "substituindo strings e removendo espaços em branco\n",
        "replace -> substitue um determinado texto\n"
      ],
      "metadata": {
        "id": "odTc9fQhDQ4c"
      }
    },
    {
      "cell_type": "code",
      "source": [
        "texto = 'A força eletromotriz induzida em qualquer circuito fechado é igual ao negativo da variação.'\n",
        "texto1 = texto.replace('força', 'bicicleta')\n",
        "texto2 = texto.replace('','#')\n",
        "\n",
        "print(texto1)\n",
        "print(texto2)"
      ],
      "metadata": {
        "id": "P6VPAT8eDYZp"
      },
      "execution_count": null,
      "outputs": []
    },
    {
      "cell_type": "markdown",
      "source": [
        "utilizando o método strip e lstrip\n",
        "strip -> retira espaços da direita e da esquerda\n",
        "lstrip -> retira espaços da esquerda\n",
        "rstrip -> retira espaços da direita"
      ],
      "metadata": {
        "id": "sk_lNpyfFa7c"
      }
    },
    {
      "cell_type": "code",
      "source": [
        "texto = ' Olá mundo! '\n",
        "texto1 = texto.strip()\n",
        "texto2 = texto.lstrip()\n",
        "texto3 = texto.rstrip()\n",
        "\n",
        "print(texto)\n",
        "print(texto1)\n",
        "print(texto2)\n",
        "print(texto3)"
      ],
      "metadata": {
        "id": "AlQ800_iFKUR"
      },
      "execution_count": null,
      "outputs": []
    },
    {
      "cell_type": "markdown",
      "source": [
        "1 - Faça um programa que leia 2 strings e informe o conteúdo delas seguido do seu comprimento. Informe também se as duas strings possuem o mesmo comprimento e são iguais ou direntes no conteúdo."
      ],
      "metadata": {
        "id": "DvaMBtIQGnz7"
      }
    },
    {
      "cell_type": "code",
      "source": [
        "texto = 'Python é uma linguagem de programação. Python é simples'\n",
        "texto1 = texto.split('.')\n",
        "\n",
        "for i in range(len(texto1)):\n",
        "  print(texto1[i], ' - ', len(texto1[i]))\n",
        "\n",
        "\n"
      ],
      "metadata": {
        "colab": {
          "base_uri": "https://localhost:8080/"
        },
        "id": "Lu1mhIYiHk-I",
        "outputId": "1f64d652-8458-4e91-f857-7cee7995ae9a"
      },
      "execution_count": 71,
      "outputs": [
        {
          "output_type": "stream",
          "name": "stdout",
          "text": [
            "Python é uma linguagem de programação  -  37\n",
            " Python é simples  -  17\n"
          ]
        }
      ]
    },
    {
      "cell_type": "markdown",
      "source": [
        "2 - Faça um programa que solicite o nome do usuário e imprima-o na vertical."
      ],
      "metadata": {
        "id": "cL7Rh0x8HBB4"
      }
    },
    {
      "cell_type": "code",
      "source": [
        "nome = input('Digite seu nome: ').upper()\n",
        "nome1 = nome.replace('','#')\n",
        "letras = nome1.strip().split('#')\n",
        "\n",
        "print(letras)\n"
      ],
      "metadata": {
        "colab": {
          "base_uri": "https://localhost:8080/"
        },
        "id": "bTwjJVQUNBrs",
        "outputId": "dba45d2b-720e-47da-8499-9317cc28b780"
      },
      "execution_count": 77,
      "outputs": [
        {
          "output_type": "stream",
          "name": "stdout",
          "text": [
            "Digite seu nome: tomasia\n",
            "['', 't', 'o', 'm', 'a', 's', 'i', 'a', '']\n"
          ]
        }
      ]
    },
    {
      "cell_type": "markdown",
      "source": [
        "3 - Faça um programa que permita ao usuário digitar o seu nome e em seguida mostre o nome do usuário de trás pra frente utilizando somente letras maiúsculas. Dica: lembre-se que ao informar o nome o usuário pode digitar letras maiúsculas ou minúsculas."
      ],
      "metadata": {
        "id": "eYJm05ykHHrI"
      }
    },
    {
      "cell_type": "code",
      "source": [
        "nome = input('Digite seu nome: ').upper()\n",
        "letras = []\n",
        "\n",
        "for letra in nome:\n",
        "  letras.append(letra)\n",
        "\n",
        "print(nome)\n",
        "print(letras)\n",
        "letras.reverse()\n",
        "print(letras)\n"
      ],
      "metadata": {
        "colab": {
          "base_uri": "https://localhost:8080/"
        },
        "id": "AA56MlkIMm4K",
        "outputId": "b55b369f-b7b1-4829-90a7-9a7724d94cf5"
      },
      "execution_count": 93,
      "outputs": [
        {
          "output_type": "stream",
          "name": "stdout",
          "text": [
            "Digite seu nome: tomasia\n",
            "TOMASIA\n",
            "['T', 'O', 'M', 'A', 'S', 'I', 'A']\n",
            "['A', 'I', 'S', 'A', 'M', 'O', 'T']\n"
          ]
        }
      ]
    },
    {
      "cell_type": "markdown",
      "source": [
        "4 - Faça um programa que solicite a data de nascimento (dd/mm/aaaa) do usuário e imprima a data com o nome do mês por extenso."
      ],
      "metadata": {
        "id": "yhc_YkVPHbTa"
      }
    },
    {
      "cell_type": "code",
      "source": [
        "dt_nascimento = input('Digite sua data de nascimento (dd/mm/aaaa): ')\n",
        "dt_nascimento1 = dt_nascimento.split('/')\n",
        "mes = dt_nascimento1[1]\n",
        "\n",
        "print(mes[1])\n",
        "if mes == 1:\n",
        "  print('Janeiro')\n",
        "elif mes == 2:\n",
        "  print('Fevereiro')\n",
        "elif mes == 3:\n",
        "  print('Março')\n",
        "elif mes == 4:\n",
        "  print('Abril')\n",
        "elif mes == 5:\n",
        "  print('Maio')\n",
        "elif mes == 6:\n",
        "  print('Junho')\n",
        "elif mes == 7:\n",
        "  print('Julho')\n",
        "elif mes == 8:\n",
        "  print('Agosto')\n",
        "elif mes == 9:\n",
        "  print('Setembro')\n",
        "elif mes == 10:\n",
        "  print('Outubro')\n",
        "elif mes == 11:\n",
        "  print('Novembro')\n",
        "elif mes == 12:\n",
        "  print('Dezembro')\n",
        "else:\n",
        "  print('MÊs inválido!')\n"
      ],
      "metadata": {
        "colab": {
          "base_uri": "https://localhost:8080/"
        },
        "id": "4M-oLeqVX23Z",
        "outputId": "39f3cc13-6eb1-4239-c6e5-f03b1535e863"
      },
      "execution_count": 79,
      "outputs": [
        {
          "output_type": "stream",
          "name": "stdout",
          "text": [
            "Digite sua data de nascimento (dd/mm/aaaa): 16/02/1983\n",
            "2\n",
            "MÊs inválido!\n"
          ]
        }
      ]
    }
  ]
}
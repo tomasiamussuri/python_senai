{
  "nbformat": 4,
  "nbformat_minor": 0,
  "metadata": {
    "colab": {
      "provenance": [],
      "authorship_tag": "ABX9TyMgfSuzurCrJDbD7ZK7MwX+",
      "include_colab_link": true
    },
    "kernelspec": {
      "name": "python3",
      "display_name": "Python 3"
    },
    "language_info": {
      "name": "python"
    }
  },
  "cells": [
    {
      "cell_type": "markdown",
      "metadata": {
        "id": "view-in-github",
        "colab_type": "text"
      },
      "source": [
        "<a href=\"https://colab.research.google.com/github/tomasiamussuri/python_senai/blob/main/C%C3%B3pia_de_Aula_20240207.ipynb\" target=\"_parent\"><img src=\"https://colab.research.google.com/assets/colab-badge.svg\" alt=\"Open In Colab\"/></a>"
      ]
    },
    {
      "cell_type": "code",
      "execution_count": null,
      "metadata": {
        "id": "2ZKLicS625uF"
      },
      "outputs": [],
      "source": [
        "1 - Construa um programa em Python utilizando os comandos prendidos até agora para encontrar todos os números pares entre 1 e 100."
      ]
    },
    {
      "cell_type": "code",
      "source": [
        "for numero in range(1, 100, 1):\n",
        "  if numero % 2 == 0:\n",
        "    print('O número: ', numero, ' é par.')"
      ],
      "metadata": {
        "id": "Nx9JpLNm2-HR"
      },
      "execution_count": null,
      "outputs": []
    },
    {
      "cell_type": "markdown",
      "source": [
        "2 - Faça um programa em Python (utilize a estrutura for) que leia 10 valores inteiros e:\n",
        "\n",
        "Encontre e mostre o maior valor\n",
        "Encontre e mostre o menor valor\n",
        "Calcule e mostre a média dos números lidos"
      ],
      "metadata": {
        "id": "CEWZrTLH3GEX"
      }
    },
    {
      "cell_type": "code",
      "source": [
        "numeros = [3, 1, 10, 47, 5, 7, 24, 33, 6, 9]\n",
        "maiorNumero = 0\n",
        "menorNumero = 0\n",
        "soma = 0\n",
        "media = 0\n",
        "cont = 0\n",
        "\n",
        "for numero in numeros:\n",
        "  if cont == 0:\n",
        "    maiorNumero = numero\n",
        "    menorNumero = numero\n",
        "    soma += numero\n",
        "    cont += 1\n",
        "    media = soma / cont\n",
        "  else:\n",
        "    soma += numero\n",
        "    cont += 1\n",
        "    media = soma / cont\n",
        "    if numero > maiorNumero:\n",
        "      maiorNumero = numero\n",
        "      if numero < menorNumero:\n",
        "        menorNumero = numero\n",
        "    else:\n",
        "      if numero < menorNumero:\n",
        "        menorNumero = numero\n",
        "\n",
        "print('Maior número: {:}'.format(maiorNumero))\n",
        "print('Menor número: {:}'.format(menorNumero))\n",
        "print('Soma: {:}'.format(soma))\n",
        "print('Média: {:.2f}'.format(media))"
      ],
      "metadata": {
        "id": "BVTaZpkH3JFv"
      },
      "execution_count": null,
      "outputs": []
    },
    {
      "cell_type": "markdown",
      "source": [
        "3 - Faça um programa em Python que recebe a temperatura de z cliente e imprima a mensagem de: se temperatura normal (menor que 37,2º C) ou com febre (de 38º C a 39º C). No final mostre a quantidade de pessoas analisadas e a média de temperatura."
      ],
      "metadata": {
        "id": "udpZN2jD3MY5"
      }
    },
    {
      "cell_type": "code",
      "source": [
        "quantidade = int(input('Informe a quantidade de pessoas que deseja verificar: '))\n",
        "\n",
        "soma = 0\n",
        "media = 0\n",
        "\n",
        "for i in range(0, quantidade, 1):\n",
        "  temperatura = float(input('Informe a temperatura do cliente: '))\n",
        "  soma += temperatura\n",
        "  if temperatura < 37.2:\n",
        "    print('O cliente está com temperatura normal.')\n",
        "  elif temperatura < 38:\n",
        "    print('O cliente está com em estado febril.')\n",
        "  elif temperatura <= 39:\n",
        "    print('O cliente está com febre.')\n",
        "  else:\n",
        "    print('O cliente está com febre alta.')\n",
        "\n",
        "media = soma / quantidade\n",
        "print('Foram analisadas: {:} pessoas. E a média da temperatura é de {:.2f}º C.'.format(quantidade, media))"
      ],
      "metadata": {
        "id": "m-s9rTpf3Qjl"
      },
      "execution_count": null,
      "outputs": []
    },
    {
      "cell_type": "markdown",
      "source": [
        "4 - Ler do teclado a idade e o sexo de 10 pessoas, calcule e imprima:\n",
        "* idade média das mulheres\n",
        "* idade média dos homens\n",
        "* idade média do grupo"
      ],
      "metadata": {
        "id": "aVwJmqaQ4OJY"
      }
    },
    {
      "cell_type": "code",
      "source": [
        "quantidadeTotal = 10\n",
        "quantidadeMulheres = 0\n",
        "quantidadeHomens = 0\n",
        "somaTotal = 0\n",
        "somaMulheres = 0\n",
        "somaHomens = 0\n",
        "mediaTotal = 0\n",
        "mediaMulheres = 0\n",
        "mediaHomens = 0\n",
        "\n",
        "for i in range(quantidadeTotal):\n",
        "  idade = int(input('Informe a idade: '))\n",
        "  somaTotal += idade\n",
        "  sexo = int(input('''Informe o sexo:\n",
        "                [1] Mulheres\n",
        "                [2] Homens\n",
        "                '''))\n",
        "  if sexo == 1:\n",
        "    quantidadeMulheres += 1\n",
        "    somaMulheres += idade\n",
        "  else:\n",
        "    quantidadeHomens += 1\n",
        "    somaHomens += idade\n",
        "\n",
        "\n",
        "mediaTotal = somaTotal / quantidadeTotal\n",
        "mediaMulheres = somaMulheres / quantidadeMulheres\n",
        "mediaHomens = somaHomens / quantidadeHomens\n",
        "\n",
        "print(somaTotal)\n",
        "print(somaMulheres)\n",
        "print(somaHomens)\n",
        "\n",
        "print('Média Total: {:}'.format(mediaTotal))\n",
        "print('Média Mulheres: {:}'.format(mediaMulheres))\n",
        "print('Média Homens: {:}'.format(mediaHomens))"
      ],
      "metadata": {
        "colab": {
          "base_uri": "https://localhost:8080/"
        },
        "id": "fJdg1q3M61Xr",
        "outputId": "e99a81df-97e7-46c4-ac56-4ef5253d98ca"
      },
      "execution_count": null,
      "outputs": [
        {
          "output_type": "stream",
          "name": "stdout",
          "text": [
            "Informe a idade: 10\n",
            "Informe o sexo:\n",
            "                [1] Mulheres\n",
            "                [2] Homens\n",
            "                1\n",
            "Informe a idade: 15\n",
            "Informe o sexo:\n",
            "                [1] Mulheres\n",
            "                [2] Homens\n",
            "                2\n",
            "Informe a idade: 25\n",
            "Informe o sexo:\n",
            "                [1] Mulheres\n",
            "                [2] Homens\n",
            "                1\n",
            "50\n",
            "35\n",
            "15\n",
            "Média Total: 16.666666666666668\n",
            "Média Mulheres: 17.5\n",
            "Média Homens: 15.0\n"
          ]
        }
      ]
    },
    {
      "cell_type": "markdown",
      "source": [
        "5 - Escreva um programa que mostre todos os números entre 5 e 100 que são divisiveis por 7, mas são múltiplos de 5. Os números obitidos devem ser impressos em sequencia."
      ],
      "metadata": {
        "id": "SBDURyBE4bXc"
      }
    },
    {
      "cell_type": "code",
      "source": [
        "for numero in range(5, 100, 1):\n",
        "  if numero % 7 == 0:\n",
        "    if numero % 5 == 0:\n",
        "      print(numero)"
      ],
      "metadata": {
        "colab": {
          "base_uri": "https://localhost:8080/"
        },
        "id": "GlnxoL2yUyl7",
        "outputId": "114bd912-6ea6-4c17-a2ef-786b05cef8db"
      },
      "execution_count": null,
      "outputs": [
        {
          "output_type": "stream",
          "name": "stdout",
          "text": [
            "35\n",
            "70\n"
          ]
        }
      ]
    },
    {
      "cell_type": "markdown",
      "source": [
        "6 - Escreva um programa em Python que receba uma string do usuário e mostre de trás pra frente."
      ],
      "metadata": {
        "id": "m4g1GDPJ4s28"
      }
    },
    {
      "cell_type": "code",
      "source": [
        "palavra = input('Digite uma palavra: ')\n",
        "for letra in palavra:\n",
        "  print(letra)"
      ],
      "metadata": {
        "colab": {
          "base_uri": "https://localhost:8080/"
        },
        "id": "qB_y61ujVnpY",
        "outputId": "cf927df9-6d61-4d8e-c484-d6e5f5aaa64a"
      },
      "execution_count": null,
      "outputs": [
        {
          "output_type": "stream",
          "name": "stdout",
          "text": [
            "Digite uma palavra: letra\n",
            "l\n",
            "e\n",
            "t\n",
            "r\n",
            "a\n"
          ]
        }
      ]
    },
    {
      "cell_type": "markdown",
      "source": [
        "7 - Escreva um programa em Python para encontrar o fatorial de qualquer número"
      ],
      "metadata": {
        "id": "p8pfcq8U42iK"
      }
    },
    {
      "cell_type": "markdown",
      "source": [
        "8 - Faça um programa que leia um nome de usuário e a sua senha e não aceite a senha igual ao nome do usuário, mostrando uma mensagem de erro e voltando a pedir as informações"
      ],
      "metadata": {
        "id": "i31ng-tz49NC"
      }
    }
  ]
}
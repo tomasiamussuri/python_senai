{
  "nbformat": 4,
  "nbformat_minor": 0,
  "metadata": {
    "colab": {
      "provenance": [],
      "authorship_tag": "ABX9TyO+Nee3qmEX70jMB9xZYCY1",
      "include_colab_link": true
    },
    "kernelspec": {
      "name": "python3",
      "display_name": "Python 3"
    },
    "language_info": {
      "name": "python"
    }
  },
  "cells": [
    {
      "cell_type": "markdown",
      "metadata": {
        "id": "view-in-github",
        "colab_type": "text"
      },
      "source": [
        "<a href=\"https://colab.research.google.com/github/tomasiamussuri/python_senai/blob/main/Projeto_20240228.ipynb\" target=\"_parent\"><img src=\"https://colab.research.google.com/assets/colab-badge.svg\" alt=\"Open In Colab\"/></a>"
      ]
    },
    {
      "cell_type": "markdown",
      "source": [
        "Projeto para criação de programa para lanchonete."
      ],
      "metadata": {
        "id": "9QcRGQrwcrWf"
      }
    },
    {
      "cell_type": "code",
      "source": [
        "submenu = int(input('''Bem-vinda(o) a Lanchonete do Senai!\n",
        "        Escolha o submenu desejado para ver as opções disponiveis:\n",
        "        [1] Sanduíches\n",
        "        [2] Bebidas\n",
        "        [3] Sobremesa\n",
        "        [0] Fechar conta\n",
        "        ''')\n",
        "\n",
        "pedido = []\n",
        "\n",
        "if submenu == 1:\n",
        "    opcaoSanduiche = int(input('''\n",
        "            ++++++ LANCHONETE DO SENAI +++++\n",
        "            |COD|      PRODUTO    |  VALOR |\n",
        "            ++++++++++++++++++++++++++++++++\n",
        "            100 | Cachorro Quente | R$ 18,90\n",
        "            101 | Bauru Simples   | R$ 1,30\n",
        "            102 | Bauru com ovo   | R$ 1,50\n",
        "            103 | Hambúrger       | R$ 1,20\n",
        "            104 | Cheeseburger    | R$ 1,30\n",
        "            ++++++++++++++++++++++++++++++++\n",
        "            Digite a opção desejada: '''))\n",
        "\n",
        "if opcao >= 100 and opcao <= 105:\n",
        "  quantidade = int(input(\"Informe a quantidade desejada: \"))\n",
        "  if opcao == 100:\n",
        "    valorUnitario = 1.20\n",
        "  elif opcao == 101:\n",
        "    valorUnitario = 1.30\n",
        "  elif opcao == 102:\n",
        "    valorUnitario = 1.50\n",
        "  elif opcao == 103:\n",
        "    valorUnitario = 1.20\n",
        "  elif opcao == 104:\n",
        "    valorUnitario = 1.30\n",
        "  elif opcao == 105:\n",
        "    valorUnitario = 1.00\n",
        "\n",
        "  valorDoPedido = valorUnitario * quantidade\n",
        "  print(\"O valor total do seu pedido é: R$ {:.2f}.\".format(valorDoPedido))\n",
        "else:\n",
        "  print(\"Código inválido, reinicie o pedido!\")"
      ],
      "metadata": {
        "id": "1Z773o5Xcqqn"
      },
      "execution_count": null,
      "outputs": []
    }
  ]
}
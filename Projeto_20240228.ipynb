{
  "nbformat": 4,
  "nbformat_minor": 0,
  "metadata": {
    "colab": {
      "provenance": [],
      "include_colab_link": true
    },
    "kernelspec": {
      "name": "python3",
      "display_name": "Python 3"
    },
    "language_info": {
      "name": "python"
    }
  },
  "cells": [
    {
      "cell_type": "markdown",
      "metadata": {
        "id": "view-in-github",
        "colab_type": "text"
      },
      "source": [
        "<a href=\"https://colab.research.google.com/github/tomasiamussuri/python_senai/blob/main/Projeto_20240228.ipynb\" target=\"_parent\"><img src=\"https://colab.research.google.com/assets/colab-badge.svg\" alt=\"Open In Colab\"/></a>"
      ]
    },
    {
      "cell_type": "markdown",
      "source": [
        "Projeto para criação de programa para lanchonete."
      ],
      "metadata": {
        "id": "9QcRGQrwcrWf"
      }
    },
    {
      "cell_type": "code",
      "source": [
        "pedido = []\n",
        "quantidade = []\n",
        "valorPedido = []\n",
        "\n",
        "print('Bem-vinda(o) a Lanchonete do Senai!')\n",
        "\n",
        "while True:\n",
        "  submenu = int(input('''Escolha a opção desejada:\n",
        "          [1] Sanduíches\n",
        "          [2] Bebidas\n",
        "          [3] Sobremesa\n",
        "          [0] Fechar conta\n",
        "          '''))\n",
        "  if submenu != 0:\n",
        "    if submenu == 1:\n",
        "      opcaoSanduiche = int(input('''Escolha a opção desejada:\n",
        "           [101] Cachorro Quente\n",
        "           [102] Bauru Simples\n",
        "           [103] Bauru com ovo\n",
        "           [104] Hamburguer\n",
        "           [105] Cheeseburger\n",
        "           '''))\n",
        "      quantidade.append(int(input('Informe a quantidade: ')))\n",
        "\n",
        "      if opcaoSanduiche >= 101 and opcaoSanduiche <= 105:\n",
        "\n",
        "        if opcaoSanduiche == 101:\n",
        "          pedido.append('Cachorro Quente')\n",
        "          valorPedido.append(15.90)\n",
        "        elif opcaoSanduiche == 102:\n",
        "          pedido.append('Bauru Simples')\n",
        "          valorPedido.append(18.90)\n",
        "        elif opcaoSanduiche == 103:\n",
        "          pedido.append('Bauru com ovo')\n",
        "          valorPedido.append(20.90)\n",
        "        elif opcaoSanduiche == 104:\n",
        "          pedido.append('Hamburguer')\n",
        "          valorPedido.append(25.90)\n",
        "        elif opcaoSanduiche == 105:\n",
        "          pedido.append('Cheeseburger')\n",
        "          valorPedido.append(29.90)\n",
        "\n",
        "      else:\n",
        "        print()\n",
        "        print('Opção inválida, tente novamente!')\n",
        "        print()\n",
        "\n",
        "\n",
        "\n",
        "    elif submenu == 2:\n",
        "      opcaoBebida = int(input('''Escolha a opção desejada:\n",
        "          [201] Coca-Cola\n",
        "          [202] Guarana Antartica\n",
        "          [203] Fanta\n",
        "          [204] Soda Limonada\n",
        "          [205] Agua sem gas\n",
        "          [206] Agua com gas\n",
        "          '''))\n",
        "    if opcaoSanduiche >= 201 and opcaoSanduiche <= 206:\n",
        "      if opcaoBebida == 201:\n",
        "        pedido.append('Coca-Cola')\n",
        "        valorPedido.append(5.90)\n",
        "      elif opcaoBebida == 202:\n",
        "        pedido.append('Guarana Antartica')\n",
        "        valorPedido.append(5.90)\n",
        "      elif opcaoBebida == 203:\n",
        "        pedido.append('Fanta')\n",
        "        valorPedido.append(5.90)\n",
        "      elif opcaoBebida == 204:\n",
        "        pedido.append('Soda Limonada')\n",
        "        valorPedido.append(5.90)\n",
        "      elif opcaoBebida == 205:\n",
        "        pedido.append('Agua sem gas')\n",
        "        valorPedido.append(3.90)\n",
        "      elif opcaoBebida == 206:\n",
        "        pedido.append('Agua com gas')\n",
        "        valorPedido.append(4.90)\n",
        "      else:\n",
        "        print()\n",
        "        print('Opção inválida, tente novamente!')\n",
        "        print()\n",
        "\n",
        "    elif submenu == 3:\n",
        "      opcaoBebida = int(input('''Escolha a opção desejada:\n",
        "            [301] Pudim\n",
        "            [302] Brownie\n",
        "            [303] Brigadeiro gourmet\n",
        "        '''))\n",
        "      if opcaoBebida >= 301 and opcaoBebida <= 303:\n",
        "          if opcaoBebida == 301:\n",
        "            pedido.append('Pudim')\n",
        "            valorPedido.append(8.90)\n",
        "          elif opcaoBebida == 302:\n",
        "            pedido.append('Brownie')\n",
        "            valorPedido.append(7.90)\n",
        "          elif opcaoBebida == 303:\n",
        "            pedido.append('Brigadeiro')\n",
        "            valorPedido.append(4.90)\n",
        "      else:\n",
        "        print()\n",
        "        print('Opção inválida, tente novamente!')\n",
        "        print()\n",
        "\n",
        "    else:\n",
        "      print()\n",
        "      print('Opção inválida, tente novamente!')\n",
        "      print()\n",
        "\n",
        "  else:\n",
        "    print(pedido)\n",
        "    print(quantidade)\n",
        "    print(valorPedido)\n",
        "    break"
      ],
      "metadata": {
        "id": "RThwCk-ng6ON",
        "outputId": "df6c5fb0-668e-4b28-f255-16a60f99c640",
        "colab": {
          "base_uri": "https://localhost:8080/",
          "height": 669
        }
      },
      "execution_count": 43,
      "outputs": [
        {
          "output_type": "stream",
          "name": "stdout",
          "text": [
            "Bem-vinda(o) a Lanchonete do Senai!\n",
            "Escolha a opção desejada:\n",
            "          [1] Sanduíches\n",
            "          [2] Bebidas\n",
            "          [3] Sobremesa\n",
            "          [0] Fechar conta\n",
            "          1\n",
            "Escolha a opção desejada: \n",
            "              [101] Cachorro Quente\n",
            "              [102] Bauru Simples\n",
            "              [103] Bauru com ovo\n",
            "              [104] Hamburguer\n",
            "              [105] Cheeseburger\n",
            "              101\n",
            "Informe a quantidade: 2\n",
            "\n",
            "Opção inválida, tente novamente!\n",
            "\n"
          ]
        },
        {
          "output_type": "error",
          "ename": "KeyboardInterrupt",
          "evalue": "Interrupted by user",
          "traceback": [
            "\u001b[0;31m---------------------------------------------------------------------------\u001b[0m",
            "\u001b[0;31mKeyboardInterrupt\u001b[0m                         Traceback (most recent call last)",
            "\u001b[0;32m<ipython-input-43-9c3074d6d208>\u001b[0m in \u001b[0;36m<cell line: 7>\u001b[0;34m()\u001b[0m\n\u001b[1;32m      6\u001b[0m \u001b[0;34m\u001b[0m\u001b[0m\n\u001b[1;32m      7\u001b[0m \u001b[0;32mwhile\u001b[0m \u001b[0;32mTrue\u001b[0m\u001b[0;34m:\u001b[0m\u001b[0;34m\u001b[0m\u001b[0;34m\u001b[0m\u001b[0m\n\u001b[0;32m----> 8\u001b[0;31m   submenu = int(input('''Escolha a opção desejada:\n\u001b[0m\u001b[1;32m      9\u001b[0m           \u001b[0;34m[\u001b[0m\u001b[0;36m1\u001b[0m\u001b[0;34m]\u001b[0m \u001b[0mSanduíches\u001b[0m\u001b[0;34m\u001b[0m\u001b[0;34m\u001b[0m\u001b[0m\n\u001b[1;32m     10\u001b[0m           \u001b[0;34m[\u001b[0m\u001b[0;36m2\u001b[0m\u001b[0;34m]\u001b[0m \u001b[0mBebidas\u001b[0m\u001b[0;34m\u001b[0m\u001b[0;34m\u001b[0m\u001b[0m\n",
            "\u001b[0;32m/usr/local/lib/python3.10/dist-packages/ipykernel/kernelbase.py\u001b[0m in \u001b[0;36mraw_input\u001b[0;34m(self, prompt)\u001b[0m\n\u001b[1;32m    849\u001b[0m                 \u001b[0;34m\"raw_input was called, but this frontend does not support input requests.\"\u001b[0m\u001b[0;34m\u001b[0m\u001b[0;34m\u001b[0m\u001b[0m\n\u001b[1;32m    850\u001b[0m             )\n\u001b[0;32m--> 851\u001b[0;31m         return self._input_request(str(prompt),\n\u001b[0m\u001b[1;32m    852\u001b[0m             \u001b[0mself\u001b[0m\u001b[0;34m.\u001b[0m\u001b[0m_parent_ident\u001b[0m\u001b[0;34m,\u001b[0m\u001b[0;34m\u001b[0m\u001b[0;34m\u001b[0m\u001b[0m\n\u001b[1;32m    853\u001b[0m             \u001b[0mself\u001b[0m\u001b[0;34m.\u001b[0m\u001b[0m_parent_header\u001b[0m\u001b[0;34m,\u001b[0m\u001b[0;34m\u001b[0m\u001b[0;34m\u001b[0m\u001b[0m\n",
            "\u001b[0;32m/usr/local/lib/python3.10/dist-packages/ipykernel/kernelbase.py\u001b[0m in \u001b[0;36m_input_request\u001b[0;34m(self, prompt, ident, parent, password)\u001b[0m\n\u001b[1;32m    893\u001b[0m             \u001b[0;32mexcept\u001b[0m \u001b[0mKeyboardInterrupt\u001b[0m\u001b[0;34m:\u001b[0m\u001b[0;34m\u001b[0m\u001b[0;34m\u001b[0m\u001b[0m\n\u001b[1;32m    894\u001b[0m                 \u001b[0;31m# re-raise KeyboardInterrupt, to truncate traceback\u001b[0m\u001b[0;34m\u001b[0m\u001b[0;34m\u001b[0m\u001b[0m\n\u001b[0;32m--> 895\u001b[0;31m                 \u001b[0;32mraise\u001b[0m \u001b[0mKeyboardInterrupt\u001b[0m\u001b[0;34m(\u001b[0m\u001b[0;34m\"Interrupted by user\"\u001b[0m\u001b[0;34m)\u001b[0m \u001b[0;32mfrom\u001b[0m \u001b[0;32mNone\u001b[0m\u001b[0;34m\u001b[0m\u001b[0;34m\u001b[0m\u001b[0m\n\u001b[0m\u001b[1;32m    896\u001b[0m             \u001b[0;32mexcept\u001b[0m \u001b[0mException\u001b[0m \u001b[0;32mas\u001b[0m \u001b[0me\u001b[0m\u001b[0;34m:\u001b[0m\u001b[0;34m\u001b[0m\u001b[0;34m\u001b[0m\u001b[0m\n\u001b[1;32m    897\u001b[0m                 \u001b[0mself\u001b[0m\u001b[0;34m.\u001b[0m\u001b[0mlog\u001b[0m\u001b[0;34m.\u001b[0m\u001b[0mwarning\u001b[0m\u001b[0;34m(\u001b[0m\u001b[0;34m\"Invalid Message:\"\u001b[0m\u001b[0;34m,\u001b[0m \u001b[0mexc_info\u001b[0m\u001b[0;34m=\u001b[0m\u001b[0;32mTrue\u001b[0m\u001b[0;34m)\u001b[0m\u001b[0;34m\u001b[0m\u001b[0;34m\u001b[0m\u001b[0m\n",
            "\u001b[0;31mKeyboardInterrupt\u001b[0m: Interrupted by user"
          ]
        }
      ]
    },
    {
      "cell_type": "code",
      "source": [
        "\n",
        "if submenu == 1:\n",
        "    opcaoSanduiche = int(input('''\n",
        "            ++++++ LANCHONETE DO SENAI +++++\n",
        "            |COD|      PRODUTO    |  VALOR |\n",
        "            ++++++++++++++++++++++++++++++++\n",
        "            100 | Cachorro Quente | R$ 18,90\n",
        "            101 | Bauru Simples   | R$ 1,30\n",
        "            102 | Bauru com ovo   | R$ 1,50\n",
        "            103 | Hambúrger       | R$ 1,20\n",
        "            104 | Cheeseburger    | R$ 1,30\n",
        "            ++++++++++++++++++++++++++++++++\n",
        "            Digite a opção desejada: '''))\n",
        "\n",
        "\n",
        "  valorDoPedido = valorUnitario * quantidade\n",
        "  print(\"O valor total do seu pedido é: R$ {:.2f}.\".format(valorDoPedido))\n",
        "else:\n",
        "  print(\"Código inválido, reinicie o pedido!\")"
      ],
      "metadata": {
        "id": "1Z773o5Xcqqn"
      },
      "execution_count": null,
      "outputs": []
    }
  ]
}
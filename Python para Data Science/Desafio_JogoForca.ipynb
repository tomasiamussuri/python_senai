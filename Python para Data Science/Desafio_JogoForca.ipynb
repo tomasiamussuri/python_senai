{
  "nbformat": 4,
  "nbformat_minor": 0,
  "metadata": {
    "colab": {
      "provenance": []
    },
    "kernelspec": {
      "name": "python3",
      "display_name": "Python 3"
    },
    "language_info": {
      "name": "python"
    }
  },
  "cells": [
    {
      "cell_type": "code",
      "execution_count": null,
      "metadata": {
        "id": "s6bco5gvsnOJ"
      },
      "outputs": [],
      "source": []
    },
    {
      "cell_type": "markdown",
      "source": [
        "Desafio: Criar jogo da forca sem utilizar listas."
      ],
      "metadata": {
        "id": "tPJiSEe4s4xp"
      }
    },
    {
      "cell_type": "code",
      "source": [
        "import random\n",
        "\n",
        "palavras = ['Python','Java','JavaScript','Golang','ADVPL']\n",
        "limiteErros = 6\n",
        "contAcertos = 0\n",
        "\n",
        "palavraSecreta = random.choice(palavras)"
      ],
      "metadata": {
        "id": "gBawGjjJtuzZ"
      },
      "execution_count": null,
      "outputs": []
    },
    {
      "cell_type": "code",
      "source": [
        "print(f\"***** JOGO DA FORCA ***** \\n\"\n",
        "      f\"A palavra secreta possui: {len(palavraSecreta)} letras.\\n\")\n",
        "\n",
        "while contAcertos != len(palavraSecreta):\n",
        "    letraChute = input(\"Digite uma letra: \").upper()\n",
        "\n",
        "    if limiteErros != 0:\n",
        "      if letraChute in palavraSecreta.upper():\n",
        "        print(f\"Você Acertou. A letra '{letraChute}' está na palavra secreta.\")\n",
        "        contAcertos += 1\n",
        "      else:\n",
        "        print(f\"Você errou. A letra '{letraChute}' não está na palavra secreta\")\n",
        "        limiteErros -=1\n",
        "\n",
        "    else:\n",
        "      print(f\"Você perdeu. A palavra secreta era: '{palavraSecreta}'\")\n",
        "\n",
        "else:\n",
        "    print(f\"PARABÉNS! Você descobriu a palavra secreta: '{palavraSecreta}'.\")"
      ],
      "metadata": {
        "colab": {
          "base_uri": "https://localhost:8080/"
        },
        "id": "mTbuWfcPvQ4y",
        "outputId": "7c5002c8-1054-4246-ad72-de5a145316e4"
      },
      "execution_count": null,
      "outputs": [
        {
          "output_type": "stream",
          "name": "stdout",
          "text": [
            "***** JOGO DA FORCA ***** \n",
            "A palavra secreta possui: 10 letras.\n",
            "\n",
            "Digite uma letra: a\n",
            "Você Acertou. A letra 'A' está na palavra secreta.\n",
            "Digite uma letra: v\n",
            "Você Acertou. A letra 'V' está na palavra secreta.\n",
            "Digite uma letra: j\n",
            "Você Acertou. A letra 'J' está na palavra secreta.\n",
            "Digite uma letra: a\n",
            "Você Acertou. A letra 'A' está na palavra secreta.\n",
            "Digite uma letra: s\n",
            "Você Acertou. A letra 'S' está na palavra secreta.\n",
            "Digite uma letra: c\n",
            "Você Acertou. A letra 'C' está na palavra secreta.\n",
            "Digite uma letra: r\n",
            "Você Acertou. A letra 'R' está na palavra secreta.\n",
            "Digite uma letra: i\n",
            "Você Acertou. A letra 'I' está na palavra secreta.\n",
            "Digite uma letra: p\n",
            "Você Acertou. A letra 'P' está na palavra secreta.\n",
            "Digite uma letra: t\n",
            "Você Acertou. A letra 'T' está na palavra secreta.\n",
            "PARABÉNS! Você descobriu a palavra secreta: 'JavaScript'.\n"
          ]
        }
      ]
    }
  ]
}
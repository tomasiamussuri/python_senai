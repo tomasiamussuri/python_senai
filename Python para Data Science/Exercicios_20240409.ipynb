{
  "nbformat": 4,
  "nbformat_minor": 0,
  "metadata": {
    "colab": {
      "provenance": []
    },
    "kernelspec": {
      "name": "python3",
      "display_name": "Python 3"
    },
    "language_info": {
      "name": "python"
    }
  },
  "cells": [
    {
      "cell_type": "markdown",
      "source": [
        "Faça um programa de um caixa eletrônico que, a partir do valor a ser sacado informado pelo usuário, o programa informe a menor quantidade de cédulas que o usuário irá receber, informando-o quantas cédulas e de quais valores ele irá receber.\n",
        "Considerar apenas notas:\n",
        "R$200,00\n",
        "R$100,00\n",
        "R$50,00\n",
        "R$20,00\n",
        "R$10,00\n",
        "R$5,00\n",
        "R$2,00\n"
      ],
      "metadata": {
        "id": "eF39Asn8ACVL"
      }
    },
    {
      "cell_type": "code",
      "source": [
        "print('=' * 30)\n",
        "print('{:^30}'.format('BANCO SENAI'))\n",
        "print('=' * 30)\n",
        "\n",
        "saldo = valorSaque = int(input('Qual valor deseja sacar? '))\n",
        "\n",
        "cont200 = cont100 = cont50 = cont20 = cont10 = cont5 = cont2 = 0\n",
        "\n",
        "while True:\n",
        "\tif saldo % 2 != 0:\n",
        "\t\tsaldo -= 5\n",
        "\t\tcont5 += 1\n",
        "\n",
        "\telse:\n",
        "\t\tif saldo >= 200:\n",
        "\t\t\tsaldo -= 200\n",
        "\t\t\tcont200 += 1\n",
        "\t\telif saldo >= 100:\n",
        "\t\t\tsaldo -= 100\n",
        "\t\t\tcont100 += 1\n",
        "\t\telif saldo >= 50:\n",
        "\t\t\tsaldo -= 50\n",
        "\t\t\tcont50 += 1\n",
        "\t\telif saldo >= 20:\n",
        "\t\t\tsaldo -= 20\n",
        "\t\t\tcont20 += 1\n",
        "\t\telif saldo >= 10:\n",
        "\t\t\tsaldo -= 10\n",
        "\t\t\tcont10 +=1\n",
        "\t\telse:\n",
        "\t\t\tsaldo -= 2\n",
        "\t\t\tcont2 += 1\n",
        "\n",
        "\tif saldo == 0:\n",
        "\t\tbreak\n",
        "\n",
        "\n",
        "print(f'Para sacar o valor {valorSaque} desejado foi necessário:\\n {cont200} de R$ 200,00\\n {cont100} de R$ 100,00\\n {cont50} de R$ 50,00\\n {cont20} de R$ 20,00\\n {cont10} de R$ 10,00\\n {cont5} de R$ 5,00\\n {cont2} de R$ 2,00.')\n",
        "print('=' * 30)\n",
        "print('Volte sempre ao Banco SENAI! Tenha um bom dia!')\n"
      ],
      "metadata": {
        "colab": {
          "base_uri": "https://localhost:8080/"
        },
        "id": "KwycAZClAT_i",
        "outputId": "016b903a-e05b-4d74-b159-90684ff6eef7"
      },
      "execution_count": 32,
      "outputs": [
        {
          "output_type": "stream",
          "name": "stdout",
          "text": [
            "==============================\n",
            "         BANCO SENAI          \n",
            "==============================\n",
            "Qual valor deseja sacar? 823\n",
            "Para sacar o valor 823 desejado foi necessário:\n",
            " 4 de R$ 200,00\n",
            " 0 de R$ 100,00\n",
            " 0 de R$ 50,00\n",
            " 0 de R$ 20,00\n",
            " 1 de R$ 10,00\n",
            " 1 de R$ 5,00\n",
            " 4 de R$ 2,00.\n",
            "==============================\n",
            "Volte sempre ao Banco SENAI! Tenha um bom dia!\n"
          ]
        }
      ]
    }
  ]
}
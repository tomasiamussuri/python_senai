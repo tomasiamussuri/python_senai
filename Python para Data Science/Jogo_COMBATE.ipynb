{
  "nbformat": 4,
  "nbformat_minor": 0,
  "metadata": {
    "colab": {
      "provenance": []
    },
    "kernelspec": {
      "name": "python3",
      "display_name": "Python 3"
    },
    "language_info": {
      "name": "python"
    }
  },
  "cells": [
    {
      "cell_type": "markdown",
      "source": [
        "Faça um jogo de batalha entre você e o computador:\n",
        "\n",
        "Cada um dos jogadores inicia com 10 pontos de vida.\n",
        "\n",
        "Neste jogo você deverá comparar o poder de combate em cada turno, quem ganhar desfere o ataque no oponente causando o dano respectivo.\n",
        "\n",
        "Você tem dois ataques, que poderá selecionar no início de cada rodada:\n",
        "1.\tCabeçada: Tem poder de combate 3, se ganhar tira 3 de vida do oponente e toma 1 de dano.\n",
        "2.\tSoco: Tem poder de combate aleatório (jogar no dado D6) e caso ganhe causa dano aleatório (jogar no dado D6).\n",
        "\n",
        "O computador tem apenas o ataque Soco.\n",
        "\n",
        "Quem chegar a 0 pontos de vida perde o jogo."
      ],
      "metadata": {
        "id": "TMRHU5vBWoQW"
      }
    },
    {
      "cell_type": "code",
      "source": [
        "# importanto a biblioteca random\n",
        "import random\n",
        "\n",
        "# declarando as variáveis com a pontuação inicial de cada jogador\n",
        "pontosJogador = 10\n",
        "pontosComputador = 10\n",
        "\n",
        "# definindo a função combate\n",
        "def combate(golpeJogador, golpeComputador, nomeJogador):\n",
        "  global pontosJogador, pontosComputador\n",
        "  if golpeJogador > golpeComputador:\n",
        "    print(\"Você venceu a batalha! Você perdeu 1 ponto e seu oponente 3.\")\n",
        "    pontosComputador -= 3\n",
        "    pontosJogador -= 1\n",
        "  elif golpeJogador < golpeComputador:\n",
        "      print(\"Você perdeu a batalha! Você perdeu 3 ponto e seu oponente 1.\")\n",
        "      pontosComputador -= 1\n",
        "      pontosJogador -= 3\n",
        "  else:\n",
        "    print(\"Deu empate. Você e seu oponente perderam 1 ponto cada.\")\n",
        "    pontosComputador -= 1\n",
        "    pontosJogador -= 1\n",
        "\n",
        "  # verifica se a pontuação é menor que zero e substitui por zerp\n",
        "  if pontosJogador < 0:\n",
        "    pontosJogador = 0\n",
        "  if pontosComputador < 0:\n",
        "    pontosComputador = 0\n",
        "\n",
        "  return (\"***** PLACAR *****\\n\"\n",
        "          f\"{nomeJogador} {pontosJogador}  x  {pontosComputador} Computador\\n\"\n",
        "          \"--------------------\")\n",
        "\n",
        "# iniciando o jogo com uma mensagem de boas vindas\n",
        "nomeJogador = input(\"Bem-vindo ao COMBATE. Qual o seu nome? \")\n",
        "print(f\"{nomeJogador}, você tem direito à 2 golpes em cada round.\\n\"\n",
        "         \"[1] Cabeçada (3 pontos)\\n\"\n",
        "         \"[2] Golpe Aleatório ( 1 a 6 pontos)\\n\")\n",
        "\n",
        "# criando um laço de repetição\n",
        "for i in range(10):\n",
        "    if pontosJogador <= 0 or pontosComputador <= 0:\n",
        "      break\n",
        "    else:\n",
        "      print(f\"ROUND {i+1}\")\n",
        "\n",
        "      # solicita ao jogador a opção de golpe desejada\n",
        "      golpeJogador = int(input(f\"{nomeJogador}, escolha o {i+1}º golpe: \"))\n",
        "\n",
        "      while True:\n",
        "        if golpeJogador == 1:\n",
        "          golpeJogador = 3\n",
        "          break\n",
        "        elif golpeJogador == 2:\n",
        "          golpeJogador = random.randint(1, 6)\n",
        "          break\n",
        "        else:\n",
        "          golpeJogador = int(input(\"Opção inválida. Escolha a opção desejada: \\n\"\n",
        "                          \"[1] Cabeçada\\n\"\n",
        "                          \"[2] Golpe Aleatório \"))\n",
        "\n",
        "      golpeComputador = random.randint(1, 6)\n",
        "\n",
        "      resultado = combate(golpeJogador, golpeComputador, nomeJogador)\n",
        "\n",
        "      print(resultado)\n",
        "\n",
        "print(\"Fim do Jogo!\")\n",
        "\n",
        "if pontosJogador == 0 and pontosComputador > 0:\n",
        "  print(\"Você perdeu! Tente novamente.\")\n",
        "elif pontosJogador > 0 and pontosComputador == 0:\n",
        "  print(\"Você ganhou! Parabéns.\")\n",
        "else:\n",
        "  print(\"O jogo terminou empatado.\")"
      ],
      "metadata": {
        "id": "ryS7jjGSXNjC"
      },
      "execution_count": null,
      "outputs": []
    }
  ]
}
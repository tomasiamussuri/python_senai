{
  "cells": [
    {
      "cell_type": "markdown",
      "metadata": {
        "id": "L0XS6l4Ths3K"
      },
      "source": [
        "1)\tPara a str a seguir:\n",
        "jose\n",
        "jorge\n",
        "maria\n",
        "antonio\n",
        "ana\n",
        "julia\n",
        "márcio\n",
        "fernando\n",
        "zelia\n",
        "\n",
        "\n",
        "\n",
        "Faça um programa para imprimir estes dados com os índices de cada um.\n",
        "Exemplo:\n",
        "1 – jose\n",
        "2 – jorge\n",
        "3 – maria\n"
      ]
    },
    {
      "cell_type": "code",
      "execution_count": null,
      "metadata": {
        "colab": {
          "base_uri": "https://localhost:8080/"
        },
        "id": "Pax-_LcEdwD7",
        "outputId": "c9f95cf0-c987-4f6a-ecfb-00e99c7bb562"
      },
      "outputs": [
        {
          "name": "stdout",
          "output_type": "stream",
          "text": [
            "1 - jose\n",
            "2 - jorge\n",
            "3 - maria\n",
            "4 - antonio\n",
            "5 - ana\n",
            "6 - julia\n",
            "7 - márcio\n",
            "8 - fernando\n",
            "9 - zelia\n"
          ]
        }
      ],
      "source": [
        "lista = ['jose','jorge','maria','antonio','ana','julia','márcio','fernando','zelia']\n",
        "\n",
        "for indice,nome in enumerate(lista, start=1):\n",
        "  print(indice, '-',nome)\n"
      ]
    },
    {
      "cell_type": "markdown",
      "metadata": {
        "id": "IOJWr7Y7mQci"
      },
      "source": [
        "2)\tCrie um programa para inserir, apagar e listar os itens de uma lista de compras (utilize append e pop/del)."
      ]
    },
    {
      "cell_type": "code",
      "execution_count": null,
      "metadata": {
        "id": "Q-gYkRKiegVd"
      },
      "outputs": [],
      "source": [
        "lista = []\n",
        "\n",
        "while True:\n",
        "  opcao = int(input(\"\\n----- MENU -----\\n\"\n",
        "      \"1 -> Inserir\\n\"\n",
        "      \"2 -> Apagar\\n\"\n",
        "      \"3 -> Listar\\n\"\n",
        "      \"0 -> Finalizar\\n\"\n",
        "      \"Selecione a opção desejada: \"))\n",
        "\n",
        "  if opcao != 0:\n",
        "    if opcao == 1:\n",
        "      lista.append(input(\"Digite o item a ser incluido na lista: \").upper())\n",
        "      print(\"Produto incluido com sucesso.\")\n",
        "    elif opcao == 2:\n",
        "      for indice,nome in enumerate(lista, start=1):\n",
        "        print(indice, '-',nome)\n",
        "      lista.pop(int(input(\"Digite o indice do item que deseja deletar: \")))\n",
        "      print(\"Produto excluido com sucesso.\")\n",
        "    elif opcao == 3:\n",
        "      print(\"\\n----- LISTAGEM DE PRODUTOS -----\"\n",
        "            \"\\nCOD    PRODUTO\")\n",
        "      print('-' * 30)\n",
        "      for indice,nome in enumerate(lista, start=1):\n",
        "        print(indice, '  -  ',nome)\n",
        "    else:\n",
        "      opcao = int(input(\"1 -> Inserir\\n\"\n",
        "                    \"2 -> Apagar\\n\"\n",
        "                    \"3 -> Listar\\n\"\n",
        "                    \"0 -> Finalizar\\n\"\n",
        "                      \"Selecione a opção desejada: \"))\n",
        "  else:\n",
        "    print(\"Cadastro finalizado.\")\n",
        "    break"
      ]
    },
    {
      "cell_type": "markdown",
      "metadata": {
        "id": "eCMyIxv_zgZg"
      },
      "source": [
        "3)\tCrie uma função que receba o nome e idade e então cadastre como um dicionário (dict) em uma lista de usuários."
      ]
    },
    {
      "cell_type": "code",
      "execution_count": null,
      "metadata": {
        "id": "LgWHOn0MfyGt"
      },
      "outputs": [],
      "source": [
        "lista = []\n",
        "\n",
        "for i in range(3):\n",
        "  nome = input(\"Digite o nome: \").upper()\n",
        "  idade = int(input(\"Digite a idade: \"))\n",
        "\n",
        "  dicionario = {'Nome': nome, 'Idade': idade}\n",
        "\n",
        "  lista.append(dicionario)\n",
        "\n",
        "\n",
        "print(lista)\n",
        "\n",
        "for o in range (len(lista)):\n",
        "  print(lista[o])\n",
        "\n",
        "for o in lista:\n",
        "  print(o.get('Nome'))\n"
      ]
    },
    {
      "cell_type": "markdown",
      "metadata": {
        "id": "CxJ_GSAUzkMw"
      },
      "source": [
        "4)\tCrie uma função que receba o nome, idade e CPF e então cadastre como um dicionário (dict) em uma lista de usuários.\n",
        "O programa deverá permitir adicionar usuário, excluir usuário e listar usuários.\n",
        "Valide se o CPF é válido ou não antes de aceitar o cadastro.\n"
      ]
    },
    {
      "cell_type": "code",
      "execution_count": null,
      "metadata": {
        "id": "OKEyasTXWn4J"
      },
      "outputs": [],
      "source": [
        "lista = []\n",
        "\n",
        "while True:\n",
        "  opcao = int(input(\"\\n----- CADASTRO DE USUÁRIO -----\\n\"\n",
        "      \"1 -> Inserir\\n\"\n",
        "      \"2 -> Apagar\\n\"\n",
        "      \"3 -> Listar\\n\"\n",
        "      \"0 -> Finalizar\\n\"\n",
        "      \"Selecione a opção desejada: \"))\n",
        "\n",
        "  if opcao != 0:\n",
        "    if opcao == 1:\n",
        "      nome = input(\"Digite o nome: \").upper()\n",
        "      idade = int(input(\"Digite a idade: \"))\n",
        "      cpf = input(\"Digite a CPF: \")\n",
        "      if len(cpf) == 11:\n",
        "        dicionario = {'Nome': nome, 'Idade': idade, 'CPF': cpf}\n",
        "        lista.append(dicionario)\n",
        "        print(\"Usuário incluido com sucesso.\")\n",
        "      else:\n",
        "        print(\"CPF inválido. Tente novamente!\")\n",
        "\n",
        "    elif opcao == 2:\n",
        "      lista.pop(int(input(\"Digite o indice do item que deseja deletar: \")))\n",
        "      print(\"Usuário excluido com sucesso.\")\n",
        "\n",
        "    elif opcao == 3:\n",
        "      print(\"\\n--------- LISTAGEM DE USUÁRIOS ---------\"\n",
        "            \"\\nCOD   NOME        IDADE     CPF\")\n",
        "      print('-' * 40)\n",
        "      for indice,nome in enumerate(lista, start=1):\n",
        "        print(indice, '   ',nome.get('Nome'),'     ', nome.get('Idade'), '    ', nome.get('CPF'))\n",
        "    else:\n",
        "      opcao = int(input(\"1 -> Inserir\\n\"\n",
        "                    \"2 -> Apagar\\n\"\n",
        "                    \"3 -> Listar\\n\"\n",
        "                    \"0 -> Finalizar\\n\"\n",
        "                      \"Selecione a opção desejada: \"))\n",
        "  else:\n",
        "    print(\"Cadastro finalizado.\")\n",
        "    break\n",
        "\n",
        "\n",
        "print(lista)"
      ]
    }
  ],
  "metadata": {
    "colab": {
      "provenance": []
    },
    "kernelspec": {
      "display_name": "Python 3",
      "name": "python3"
    },
    "language_info": {
      "name": "python"
    }
  },
  "nbformat": 4,
  "nbformat_minor": 0
}
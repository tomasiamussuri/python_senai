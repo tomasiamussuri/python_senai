{
  "nbformat": 4,
  "nbformat_minor": 0,
  "metadata": {
    "colab": {
      "provenance": []
    },
    "kernelspec": {
      "name": "python3",
      "display_name": "Python 3"
    },
    "language_info": {
      "name": "python"
    }
  },
  "cells": [
    {
      "cell_type": "markdown",
      "source": [
        "Crie um programa para gerar duas matrizes quadradas aleatórias (A e B), no intervalo [1,10], de mesma ordem, a qual deve ser número aleatórios. Ao fim, o pragrama deve calcular e imprimir a soma entre os elementos de A que estão abaixo da diagonal principal com os elementos de B que estão acima da diagonal principal."
      ],
      "metadata": {
        "id": "Cdtf1Cx2ksCa"
      }
    },
    {
      "cell_type": "code",
      "execution_count": 5,
      "metadata": {
        "colab": {
          "base_uri": "https://localhost:8080/"
        },
        "id": "D3YLZweokYiL",
        "outputId": "57c66953-ed64-4b67-aaea-f23b15a60af6"
      },
      "outputs": [
        {
          "output_type": "stream",
          "name": "stdout",
          "text": [
            "[[2, 8, 8], [6, 10, 3], [1, 6, 1]]\n",
            "[[3, 6, 6], [6, 7, 2], [6, 7, 4]]\n",
            "13\n",
            "14\n"
          ]
        }
      ],
      "source": [
        "import random\n",
        "\n",
        "matrizA = [[0, 0, 0], [0, 0, 0], [0, 0, 0]]\n",
        "matrizB = [[0, 0, 0], [0, 0, 0], [0, 0, 0]]\n",
        "\n",
        "somaA = 0\n",
        "somaB = 0\n",
        "\n",
        "for i in range(3):\n",
        "  for j in range (3):\n",
        "    matrizA[i][j] = random.randint(1, 10)\n",
        "    matrizB[i][j] = random.randint(1,10)\n",
        "    if i > j:\n",
        "      somaA += matrizA[i][j]\n",
        "    elif i < j:\n",
        "      somaB += matrizB[i][j]\n",
        "\n",
        "print(matrizA)\n",
        "print(matrizB)\n",
        "print(somaA)\n",
        "print(somaB)"
      ]
    },
    {
      "cell_type": "markdown",
      "source": [
        "Calcule o determinante da matriz A\n",
        "https://guiadoestudante.abril.com.br/curso-enem/determinantes-propriedades-das-matrizes-quadradas#:~:text=O%20determinante%20%C3%A9%20calculado%20em,do%20produto%20da%20diagonal%20principal."
      ],
      "metadata": {
        "id": "SAZdl4xppfvm"
      }
    },
    {
      "cell_type": "code",
      "source": [
        "diagonalP1 = matrizA[0][0] * matrizA[1][1] * matrizA[2][2]\n",
        "diagonalP2 = matrizA[0][1] * matrizA[1][2] * matrizA[2][0]\n",
        "diagonalP3 = matrizA[0][2] * matrizA[1][0] * matrizA[2][1]\n",
        "\n",
        "diagonalS1 = matrizA[2][0] * matrizA[1][1] * matrizA[0][2]\n",
        "diagonalS2 = matrizA[2][1] * matrizA[1][2] * matrizA[0][0]\n",
        "diagonalS3 = matrizA[2][2] * matrizA[1][0] * matrizA[0][1]\n",
        "\n",
        "diagonalPrincipal = diagonalP1 + diagonalP2 + diagonalP3\n",
        "diagonalSecundaria = diagonalS1 + diagonalS2 + diagonalS3\n",
        "\n",
        "determinante = diagonalPrincipal + diagonalSecundaria\n",
        "\n",
        "print(diagonalP1)\n",
        "print(diagonalP2)\n",
        "print(diagonalP3)\n",
        "\n",
        "print(diagonalS1)\n",
        "print(diagonalS2)\n",
        "print(diagonalS3)\n",
        "\n",
        "print(diagonalPrincipal)\n",
        "print(diagonalSecundaria)\n",
        "\n",
        "print(determinante)"
      ],
      "metadata": {
        "colab": {
          "base_uri": "https://localhost:8080/"
        },
        "id": "TxvgLFyBmxFa",
        "outputId": "8b6b8ee4-d06d-4f83-8343-7ea908400c4d"
      },
      "execution_count": 9,
      "outputs": [
        {
          "output_type": "stream",
          "name": "stdout",
          "text": [
            "20\n",
            "24\n",
            "288\n",
            "80\n",
            "36\n",
            "48\n",
            "332\n",
            "164\n",
            "496\n"
          ]
        }
      ]
    }
  ]
}
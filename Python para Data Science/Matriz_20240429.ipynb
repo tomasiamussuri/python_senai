{
  "cells": [
    {
      "cell_type": "code",
      "execution_count": 28,
      "metadata": {
        "colab": {
          "base_uri": "https://localhost:8080/"
        },
        "id": "UTuvo75EBL9q",
        "outputId": "844c1c1d-36c4-4dec-8d61-c1c7ceaf8b93"
      },
      "outputs": [
        {
          "output_type": "stream",
          "name": "stdout",
          "text": [
            "[[5 3 1]\n",
            " [7 1 7]\n",
            " [8 1 6]]\n",
            "36.0\n",
            "36.0\n"
          ]
        }
      ],
      "source": [
        "import numpy as np\n",
        "\n",
        "matrizA = np.random.randint(10, size=(3, 3))\n",
        "\n",
        "print(matrizA)\n",
        "\n",
        "determinante = round((np.linalg.det(matrizA)),2)\n",
        "\n",
        "determinante1 = round(determinante,2)\n",
        "print(determinante)\n",
        "print(determinante1)"
      ]
    },
    {
      "cell_type": "code",
      "source": [
        "import numpy as np\n",
        "\n",
        "num_corredores = 6\n",
        "num_voltas = 10\n",
        "\n",
        "velocidade = np.random.uniform(60, size = (6, 10))\n",
        "\n",
        "velocidade = np.round(velocidade, 3)\n",
        "\n",
        "print(velocidade)"
      ],
      "metadata": {
        "colab": {
          "base_uri": "https://localhost:8080/"
        },
        "id": "K4BYMVhkYdQU",
        "outputId": "46dc0a76-26b8-4187-cb82-24ac9fc2f0aa"
      },
      "execution_count": 43,
      "outputs": [
        {
          "output_type": "stream",
          "name": "stdout",
          "text": [
            "[[58.129 47.832  5.007 23.188 35.983 44.651 10.621 16.195 44.697 36.655]\n",
            " [40.241 37.001 44.398 28.317 34.504 28.975 54.478 24.446 57.109 47.362]\n",
            " [57.026 27.042  2.637 50.898 17.794 40.1   50.963 58.252  9.352 58.794]\n",
            " [11.168 24.534 29.053 53.872 44.267 21.087 45.612  5.926 44.029 44.206]\n",
            " [ 2.307 53.68  16.493 35.511  8.689 50.822 21.252 53.404 45.67  42.989]\n",
            " [58.949  7.179 16.95  42.474 37.973 27.776 59.356 59.653 49.467 41.792]]\n"
          ]
        }
      ]
    },
    {
      "cell_type": "code",
      "source": [
        "melhorVolta = 60\n",
        "classificacaoFinal = 0\n",
        "\n",
        "for i in range(num_corredores):\n",
        "  for j in range(num_voltas):\n",
        "    if velocidade[i][j] < melhorVolta:\n",
        "      melhorVolta = velocidade[i][j]\n",
        "\n",
        "corredorMaisRapido = np.where(velocidade == melhorVolta)[0][0]\n",
        "numVolta = np.where(velocidade == melhorVolta)[0][0]\n",
        "\n",
        "print(f'Com uma volta de {melhorVolta} segundo, o corredor {corredorMaisRapido + 1} foi o melhor.')\n",
        "print(numVolta)\n"
      ],
      "metadata": {
        "colab": {
          "base_uri": "https://localhost:8080/"
        },
        "id": "0-vSqzhjY4D9",
        "outputId": "9b338346-1b79-4204-a53c-16cb28d4925e"
      },
      "execution_count": 55,
      "outputs": [
        {
          "output_type": "stream",
          "name": "stdout",
          "text": [
            "Com uma volta de 2.307 segundo, o corredor 5 foi o melhor.\n",
            "4\n"
          ]
        }
      ]
    }
  ],
  "metadata": {
    "colab": {
      "provenance": []
    },
    "kernelspec": {
      "display_name": "Python 3",
      "name": "python3"
    },
    "language_info": {
      "name": "python"
    }
  },
  "nbformat": 4,
  "nbformat_minor": 0
}
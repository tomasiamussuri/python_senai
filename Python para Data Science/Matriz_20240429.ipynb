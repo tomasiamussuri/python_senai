{
  "cells": [
    {
      "cell_type": "code",
      "execution_count": null,
      "metadata": {
        "colab": {
          "base_uri": "https://localhost:8080/"
        },
        "id": "UTuvo75EBL9q",
        "outputId": "844c1c1d-36c4-4dec-8d61-c1c7ceaf8b93"
      },
      "outputs": [
        {
          "output_type": "stream",
          "name": "stdout",
          "text": [
            "[[5 3 1]\n",
            " [7 1 7]\n",
            " [8 1 6]]\n",
            "36.0\n",
            "36.0\n"
          ]
        }
      ],
      "source": [
        "import numpy as np\n",
        "\n",
        "matrizA = np.random.randint(10, size=(3, 3))\n",
        "\n",
        "print(matrizA)\n",
        "\n",
        "determinante = round((np.linalg.det(matrizA)),2)\n",
        "\n",
        "determinante1 = round(determinante,2)\n",
        "print(determinante)\n",
        "print(determinante1)"
      ]
    },
    {
      "cell_type": "code",
      "source": [
        "#Criando uma matriz 6 x 10, onde 6 é o número de corredores e 10 o número de voltas\n",
        "\n",
        "import numpy as np\n",
        "\n",
        "numCorredores = 6\n",
        "numVoltas = 10\n",
        "\n",
        "velocidade = np.random.uniform(100, size = (numCorredores, numVoltas))\n",
        "velocidade = np.round(velocidade, 4)\n",
        "\n",
        "print(velocidade)"
      ],
      "metadata": {
        "colab": {
          "base_uri": "https://localhost:8080/"
        },
        "id": "K4BYMVhkYdQU",
        "outputId": "1fd5f3a1-28c4-4b1c-abf4-8adc98828d2d"
      },
      "execution_count": 107,
      "outputs": [
        {
          "output_type": "stream",
          "name": "stdout",
          "text": [
            "[[94.6649 34.1727 71.5044 10.0126 85.4749 40.5546  9.5289 53.8904 74.6661\n",
            "   9.5963]\n",
            " [12.1653  2.3272 24.001  33.024  83.9798 91.6761 52.6295 96.2162 30.3603\n",
            "  81.6366]\n",
            " [75.5911 10.3963 84.7191 16.6177 56.1245 73.8793 51.8267 21.4931 56.6397\n",
            "  11.8691]\n",
            " [ 1.7868 69.0191 67.9905 35.8067 24.2226 19.7627 66.0619 64.7107  2.5849\n",
            "  26.4156]\n",
            " [36.8946 76.6681 38.3226 95.0449 55.8677 22.0133 49.792  65.9301  8.0654\n",
            "  95.2656]\n",
            " [61.7067 90.9214 81.3816 69.0264 89.6586  5.8176 10.339  38.3784 58.5548\n",
            "  68.8906]]\n"
          ]
        }
      ]
    },
    {
      "cell_type": "code",
      "source": [
        "# Informar o tempo da volta mais rápida\n",
        "tempoVoltaMaisRapida = np.min(velocidade)\n",
        "print(tempoVoltaMaisRapida)\n",
        "\n",
        "# Infomar o índice da volta mais rápida\n",
        "numVoltaMaisRapida = velocidade.argmin()\n",
        "print(numVoltaMaisRapida)\n",
        "\n",
        "# Convertendo o índice em posição de X e Y\n",
        "corredor = numVoltaMaisRapida // numVoltas\n",
        "print(corredor)\n",
        "\n",
        "volta = numVoltaMaisRapida % numVoltas\n",
        "print(volta)"
      ],
      "metadata": {
        "colab": {
          "base_uri": "https://localhost:8080/"
        },
        "id": "2pzOu9Pg6-Kg",
        "outputId": "7feba4fa-65b4-413d-aeda-77427c8e0da4"
      },
      "execution_count": 102,
      "outputs": [
        {
          "output_type": "stream",
          "name": "stdout",
          "text": [
            "1.0192\n",
            "30\n",
            "3\n",
            "0\n"
          ]
        }
      ]
    },
    {
      "cell_type": "code",
      "source": [
        "# Somando as voltas de cada corredor\n",
        "totalTempoCorredor = np.sum(velocidade, axis=1)\n",
        "print(totalTempoCorredor)\n",
        "\n",
        "# Verificando o corredor mais rápido e o tempo total da corrida\n",
        "campeao = totalTempoCorredor.argmin()\n",
        "print(campeao)\n",
        "\n",
        "tempoCampeao = np.min(totalTempoCorredor)\n",
        "\n",
        "tempoCampeao = round(tempoCampeao, 4)\n",
        "print(tempoCampeao)\n",
        "\n"
      ],
      "metadata": {
        "colab": {
          "base_uri": "https://localhost:8080/"
        },
        "id": "gj4OzlMgA-hJ",
        "outputId": "d4bdb391-6dc9-432b-db21-a4c815ac134f"
      },
      "execution_count": 126,
      "outputs": [
        {
          "output_type": "stream",
          "name": "stdout",
          "text": [
            "[484.0658 508.016  459.1566 378.3615 543.8643 574.6751]\n",
            "3\n",
            "378.3615\n"
          ]
        }
      ]
    },
    {
      "cell_type": "code",
      "source": [
        "# Criar classificação\n",
        "\n",
        "classificacao = np.argsort(totalTempoCorredor)\n",
        "\n",
        "# Resultado\n",
        "print('********** MELHOR TEMPO **********')\n",
        "print(f'Volta mais rápida: {volta +1}ª\\n Tempo: {tempoVoltaMaisRapida * 60} segundos\\n Corredor: {corredor}\\n')\n",
        "print()\n",
        "print('************ CLASSIFICAÇÃO ************')\n",
        "print('COLOCAÇÃO | CORREDOR      |   TEMPO')\n",
        "print('---------------------------------------')\n",
        "for i in range(numCorredores):\n",
        "  print(f'{i+1}º        |      0{classificacao[i]+1}       | {totalTempoCorredor[i] * 60:.4f}')\n"
      ],
      "metadata": {
        "colab": {
          "base_uri": "https://localhost:8080/"
        },
        "id": "0V5LYrGRgWda",
        "outputId": "05318b39-c20e-4d03-dd6c-7ed27c2a3aed"
      },
      "execution_count": 149,
      "outputs": [
        {
          "output_type": "stream",
          "name": "stdout",
          "text": [
            "********** MELHOR TEMPO **********\n",
            "Volta mais rápida: 1ª\n",
            " Tempo: 61.15200000000001 segundos\n",
            " Corredor: 3\n",
            "\n",
            "\n",
            "************ CLASSIFICAÇÃO ************\n",
            "COLOCAÇÃO | CORREDOR      |   TEMPO\n",
            "---------------------------------------\n",
            "1º        |      04       | 29043.9480\n",
            "2º        |      03       | 30480.9600\n",
            "3º        |      01       | 27549.3960\n",
            "4º        |      02       | 22701.6900\n",
            "5º        |      05       | 32631.8580\n",
            "6º        |      06       | 34480.5060\n"
          ]
        }
      ]
    }
  ],
  "metadata": {
    "colab": {
      "provenance": []
    },
    "kernelspec": {
      "display_name": "Python 3",
      "name": "python3"
    },
    "language_info": {
      "name": "python"
    }
  },
  "nbformat": 4,
  "nbformat_minor": 0
}
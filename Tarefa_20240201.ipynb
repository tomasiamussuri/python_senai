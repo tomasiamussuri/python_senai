{
  "nbformat": 4,
  "nbformat_minor": 0,
  "metadata": {
    "colab": {
      "provenance": [],
      "authorship_tag": "ABX9TyNAIYW+vqj70eb4K1DgWAcA",
      "include_colab_link": true
    },
    "kernelspec": {
      "name": "python3",
      "display_name": "Python 3"
    },
    "language_info": {
      "name": "python"
    }
  },
  "cells": [
    {
      "cell_type": "markdown",
      "metadata": {
        "id": "view-in-github",
        "colab_type": "text"
      },
      "source": [
        "<a href=\"https://colab.research.google.com/github/tomasiamussuri/python_senai/blob/main/Tarefa_20240201.ipynb\" target=\"_parent\"><img src=\"https://colab.research.google.com/assets/colab-badge.svg\" alt=\"Open In Colab\"/></a>"
      ]
    },
    {
      "cell_type": "code",
      "execution_count": null,
      "metadata": {
        "id": "sUs8ps7A9gMX"
      },
      "outputs": [],
      "source": []
    },
    {
      "cell_type": "markdown",
      "source": [
        "1. O cardápio de uma lancheria é o seguinte:\n",
        "\n",
        "Especificação     Código    Preço </br>\n",
        "Cachorro quente   100       1,20 </br>\n",
        "Bauru simples     101       1,30 </br>\n",
        "Bauru com ovo     102       1,50 </br>\n",
        "Hambúrger         103       1,20 </br>\n",
        "Cheeseburguer     104       1,30 </br>\n",
        "Refrigerante      105       1,00 </br>\n",
        "\n",
        "Escrever um algoritmo que leia o código do item pedido, a quantidade e calcule o\n",
        "valor a ser pago por aquele lanche. Considere que a cada execução somente será\n",
        "calculado um item."
      ],
      "metadata": {
        "id": "UcjmPKNZ9w8c"
      }
    },
    {
      "cell_type": "code",
      "source": [
        "opcao = int(input('''Digite a opção desejada:\n",
        "              100 - Cachorro Quente - R$ 1,20\n",
        "              101 - Bauru Simples - R$ 1,30\n",
        "              102 - Bauru com ovo  - R$ 1,50\n",
        "              103 - Hambúrger - R$ 1,20\n",
        "              104 - Cheeseburger - R$ 1,30\n",
        "              105 - Refrigerante - R$ 1,00\n",
        "              '''))\n",
        "\n",
        "quantidade = int(input(\"Informe a quantidade desejada: \"))\n",
        "\n",
        "if opcao == 100:\n",
        "  valorUnitario = 1.20\n",
        "elif opcao == 101:\n",
        "  valorUnitario = 1.30\n",
        "elif opcao == 102:\n",
        "  valorUnitario = 1.50\n",
        "elif opcao == 103:\n",
        "  valorUnitario = 1.20\n",
        "elif opcao == 104:\n",
        "  valorUnitario = 1.30\n",
        "elif opcao == 105:\n",
        "  valorUnitario = 1.00\n",
        "\n",
        "valorDoPedido = valorUnitario * quantidade\n",
        "\n",
        "print(\"O valor total do seu pedido é: R$ {:.2f}.\".format(valorDoPedido))\n"
      ],
      "metadata": {
        "id": "GkeYL63x9yrT"
      },
      "execution_count": null,
      "outputs": []
    },
    {
      "cell_type": "markdown",
      "source": [
        "2. Tendo como dados de entrada a altura e o sexo de uma pessoa (?M? masculino\n",
        "e ?F? feminino), construa um algoritmo que calcule seu peso ideal, utilizando as\n",
        "seguintes fórmulas:\n",
        "\n",
        "- para homens: (72.7*h)-58\n",
        "- para mulheres: (62.1*h)-44.7"
      ],
      "metadata": {
        "id": "h3sFY9iAG5vw"
      }
    },
    {
      "cell_type": "code",
      "source": [
        "altura = float(input(\"Informe a sua altura: \"))\n",
        "sexo = input('''Informe o seu sexo, sendo:\n",
        "              M - masculino\n",
        "              F - feminino\n",
        "              ''')\n",
        "\n",
        "if sexo == 'M':\n",
        "  pesoIdeal = (72.7 * altura) - 58\n",
        "elif sexo == 'F':\n",
        "  pesoIdeal = (62.1 * altura) - 44.7\n",
        "\n",
        "print(\"Seu peso ideal é: {:.2f}.\".format(pesoIdeal))\n"
      ],
      "metadata": {
        "id": "X-xQujfzHBTp"
      },
      "execution_count": null,
      "outputs": []
    },
    {
      "cell_type": "markdown",
      "source": [
        "3. Um banco concederá um crédito especial aos seus clientes, variável com o saldo médio no último ano. Faça um algoritmo que leia o saldo médio de um cliente e calcule o valor do crédito de acordo com a tabela abaixo. Mostre uma mensagem informando o saldo médio e o valor do crédito. (use o comando caso-de e não faça repetições)\n",
        "\n",
        "Saldo médio       Percentual </br>\n",
        "de 0 a 200        nenhum crédito </br>\n",
        "de 201 a 400      20% do valor do saldo médio </br>\n",
        "de 401 a 600      30% do valor do saldo médio </br>\n",
        "acima de 601      40% do valor do saldo médio </br>"
      ],
      "metadata": {
        "id": "AVpVTGlsPVx9"
      }
    },
    {
      "cell_type": "code",
      "source": [
        "saldoMedio = float(input(\"Informe o saldo médio do cliente no último ano: \"))\n",
        "\n",
        "if saldoMedio <= 200:\n",
        "  creditoEspecial = 0\n",
        "elif saldoMedio <= 400:\n",
        "  creditoEspecial = saldoMedio * 0.2\n",
        "elif saldoMedio <= 600:\n",
        "  creditoEspecial = saldoMedio * 0.3\n",
        "else:\n",
        "  creditoEspecial = saldoMedio * 0.4\n",
        "\n",
        "print(\"O saldo médio do cliente no último ano foi de R$ {:.2f} e o valor do crédito especial será de R$ {:.2f}.\".format(saldoMedio, creditoEspecial))"
      ],
      "metadata": {
        "id": "eEXEJsynP5h9"
      },
      "execution_count": null,
      "outputs": []
    }
  ]
}
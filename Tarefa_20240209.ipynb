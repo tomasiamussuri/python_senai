{
  "nbformat": 4,
  "nbformat_minor": 0,
  "metadata": {
    "colab": {
      "provenance": [],
      "authorship_tag": "ABX9TyNLBzrm37Glje6En2J8T7TV",
      "include_colab_link": true
    },
    "kernelspec": {
      "name": "python3",
      "display_name": "Python 3"
    },
    "language_info": {
      "name": "python"
    }
  },
  "cells": [
    {
      "cell_type": "markdown",
      "metadata": {
        "id": "view-in-github",
        "colab_type": "text"
      },
      "source": [
        "<a href=\"https://colab.research.google.com/github/tomasiamussuri/python_senai/blob/main/Tarefa_20240209.ipynb\" target=\"_parent\"><img src=\"https://colab.research.google.com/assets/colab-badge.svg\" alt=\"Open In Colab\"/></a>"
      ]
    },
    {
      "cell_type": "markdown",
      "source": [
        "Escreva um programa que solicite vários números ao usuário, sendo um de cada vez, possibilitando encerrar a entrada de dados informando zero. Adicione os números informados em uma lista e, ao final do programa, imprima a soma de todos os números, a multiplicação de todos os números, o maior e o menor número informado.\n",
        "Exemplo de execução:\n",
        "Informe um número (zero para sair): 10\n",
        "Informe um número (zero para sair): 5\n",
        "Informe um número (zero para sair): 20\n",
        "Informe um número (zero para sair): 0"
      ],
      "metadata": {
        "id": "MgCOBACoaSL4"
      }
    },
    {
      "cell_type": "code",
      "source": [
        "numeros = []\n",
        "soma = 0\n",
        "multiplicacao = 1\n",
        "maiorNumero = 0\n",
        "menorNumero = 0\n",
        "cont = 0\n",
        "\n",
        "while True:\n",
        "  numero = int(input('Digite um número inteiro (0 - parar): '))\n",
        "\n",
        "  if numero == 0:\n",
        "    break\n",
        "  else:\n",
        "    numeros.append(numero)\n",
        "    soma += numero\n",
        "    multiplicacao = multiplicacao * numero\n",
        "\n",
        "    if cont == 0:\n",
        "        maiorNumero = numero\n",
        "        menorNumero = numero\n",
        "        cont += 1\n",
        "    else:\n",
        "        if numero > maiorNumero:\n",
        "          maiorNumero = numero\n",
        "          if numero < menorNumero:\n",
        "            menorNumero = numero\n",
        "        else:\n",
        "          if numero < menorNumero:\n",
        "            menorNumero = numero\n",
        "\n",
        "\n",
        "print(numeros)\n",
        "print('A soma de todos os números digitados é: {:}'.format(soma))\n",
        "print('A multiplicação de todos os números digitados é: {:}'.format(multiplicacao))\n",
        "print('O maior número digitado foi: {:}'.format(maiorNumero))\n",
        "print('O menor número digitado foi: {:}'.format(menorNumero))"
      ],
      "metadata": {
        "colab": {
          "base_uri": "https://localhost:8080/"
        },
        "id": "IscCHU0maRuT",
        "outputId": "47097739-f6ed-4dab-d5b4-1aaf84e37cfc"
      },
      "execution_count": 15,
      "outputs": [
        {
          "output_type": "stream",
          "name": "stdout",
          "text": [
            "Digite um número inteiro: 2\n",
            "Digite um número inteiro: 8\n",
            "Digite um número inteiro: 19\n",
            "Digite um número inteiro: 99\n",
            "Digite um número inteiro: 4\n",
            "Digite um número inteiro: 0\n",
            "[2, 8, 19, 99, 4]\n",
            "A soma de todos os números digitados é: 132\n",
            "A multiplicação de todos os números digitados é: 120384\n",
            "O maior número digitado foi: 99\n",
            "O menor número digitado foi: 2\n"
          ]
        }
      ]
    },
    {
      "cell_type": "markdown",
      "source": [
        "Escreva um programa que solicite várias palavras ao usuário, sendo uma de cada vez, possibilitando encerrar a entrada de dados informando zero. Adicione as palavras informadas em uma lista. Após o usuário informar “0” (zero), solicite a palavra que ele deseja contar. Desta forma, o programa deverá contar as ocorrências daquela palavra. Ao final imprima o resultado.\n",
        "\n",
        "\n",
        "Exemplo de execução:\n",
        "Informe uma palavra (zero para sair): Olá\n",
        "Informe uma palavra (zero para sair): Casa\n",
        "Informe uma palavra (zero para sair): Bicicleta\n",
        "Informe uma palavra (zero para sair): Olá\n",
        "Informe uma palavra (zero para sair): Olá\n",
        "Informe uma palavra (zero para sair): Hello\n",
        "Informe uma palavra (zero para sair): 0\n",
        "Informe a palavra que deseja contar: Olá\n",
        "Temos 3 ocorrências de Olá."
      ],
      "metadata": {
        "id": "84QDaAUVXAwt"
      }
    },
    {
      "cell_type": "code",
      "execution_count": 11,
      "metadata": {
        "colab": {
          "base_uri": "https://localhost:8080/"
        },
        "id": "3bzcRTmvWvxc",
        "outputId": "5adfbac4-0497-438f-f376-a5da5ed16bbf"
      },
      "outputs": [
        {
          "output_type": "stream",
          "name": "stdout",
          "text": [
            "Digite uma palavra: sol\n",
            "Digite uma palavra: lua\n",
            "Digite uma palavra: lapis\n",
            "Digite uma palavra: caderno\n",
            "Digite uma palavra: sol\n",
            "Digite uma palavra: 0\n",
            "Digite a palavra que deseja contar: sol\n",
            "['sol', 'lua', 'lapis', 'caderno', 'sol']\n",
            "A palavra sol aparece 2 vezes na lista.\n"
          ]
        }
      ],
      "source": [
        "palavras = []\n",
        "\n",
        "while True:\n",
        "  palavra = input('Digite uma palavra (0 - parar): ')\n",
        "  if palavra == '0':\n",
        "     break\n",
        "  else:\n",
        "      palavras.append(palavra)\n",
        "\n",
        "buscaPalavra = input('Digite a palavra que deseja contar: ')\n",
        "quantidade = palavras.count(buscaPalavra)\n",
        "print(palavras)\n",
        "print('A palavra {:} aparece {:} vezes na lista.'.format(buscaPalavra, quantidade))"
      ]
    },
    {
      "cell_type": "markdown",
      "source": [
        "Escreva um programa que solicite vários números ao usuário,\n",
        "sendo um de cada vez, possibilitando encerrar a entrada de\n",
        "dados informando zero. Armazene os números em uma lista,\n",
        "depois percorra esta lista alimentando outras duas listas, uma\n",
        "com números pares e outra com números ímpares. Ordene e\n",
        "imprima os números em ordem crescente e some os valores e\n",
        "imprima o resultado."
      ],
      "metadata": {
        "id": "n5QuDQrWeATi"
      }
    },
    {
      "cell_type": "code",
      "source": [
        "numeros = []\n",
        "numerosPares = []\n",
        "numerosImpares = []\n",
        "soma = 0\n",
        "\n",
        "while True:\n",
        "  numero = int(input('Digite um número (0 - parar): '))\n",
        "  if numero == 0:\n",
        "    break\n",
        "  else:\n",
        "    numeros.append(numero)\n",
        "\n",
        "quantidade = len(numeros)\n",
        "\n",
        "for i in quantidade\n",
        "\n",
        "numeros.sort()\n",
        "numeros.reverse()"
      ],
      "metadata": {
        "id": "C67p5SSZeBFZ"
      },
      "execution_count": null,
      "outputs": []
    }
  ]
}
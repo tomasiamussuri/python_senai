{
  "nbformat": 4,
  "nbformat_minor": 0,
  "metadata": {
    "colab": {
      "provenance": [],
      "authorship_tag": "ABX9TyNitbmyXXht5kSykVlx2MoC",
      "include_colab_link": true
    },
    "kernelspec": {
      "name": "python3",
      "display_name": "Python 3"
    },
    "language_info": {
      "name": "python"
    }
  },
  "cells": [
    {
      "cell_type": "markdown",
      "metadata": {
        "id": "view-in-github",
        "colab_type": "text"
      },
      "source": [
        "<a href=\"https://colab.research.google.com/github/tomasiamussuri/python_senai/blob/main/Tarefa_20240216.ipynb\" target=\"_parent\"><img src=\"https://colab.research.google.com/assets/colab-badge.svg\" alt=\"Open In Colab\"/></a>"
      ]
    },
    {
      "cell_type": "markdown",
      "source": [
        "ATIVIDADE II"
      ],
      "metadata": {
        "id": "n49ZWLr6T8yp"
      }
    },
    {
      "cell_type": "markdown",
      "source": [
        "Você é um programador Python que está desenvolvendo um programa para\n",
        "auxiliar estudantes no treinamento de tabuadas. O objetivo é criar um programa interativo\n",
        "que solicite ao usuário um número específico para praticar a tabuada desse número. O\n",
        "programa deve então apresentar ao usuário uma série de cálculos de multiplicação\n",
        "usando esse número, indo de 1 a 10, e verificar se as respostas fornecidas pelo usuário\n",
        "estão corretas.\n",
        "Muitas vezes, os estudantes têm dificuldades em memorizar as tabuadas, o que\n",
        "pode afetar seu desempenho em disciplinas que envolvem cálculos matemáticos. Para\n",
        "ajudar esses estudantes, você foi contratado para desenvolver um programa simples e\n",
        "eficaz que os ajude a praticar e aprimorar suas habilidades de multiplicação.\n",
        "Requisitos do Programa:\n",
        "Solicitação do Número:\n",
        "O programa deve solicitar ao usuário que insira o número da tabuada que ele\n",
        "deseja praticar.\n",
        "Cálculos de Multiplicação:\n",
        "Após receber o número da tabuada desejada, o programa deve apresentar ao\n",
        "usuário uma série de cálculos de multiplicação desse número, indo de 1 a 10.\n",
        "Validação das Respostas:\n",
        "Para cada cálculo apresentado, o programa deve solicitar ao usuário a resposta\n",
        "e verificar se está correta.\n",
        "Se a resposta estiver correta, o programa deve imprimir \"CORRETO\".\n",
        "Se a resposta estiver incorreta, o programa deve imprimir \"QUE PENA, VOCÊ\n",
        "ERROU, O VALOR CORRETO É X\", onde \"X\" é o valor correto do cálculo.\n",
        "Contagem de Acertos e Erros:\n",
        "\n",
        "Ao final da prática da tabuada, o programa deve imprimir o total de acertos e o\n",
        "total de erros obtidos pelo usuário.\n",
        "-------------------------------------------------\n",
        "O programa deve ser implementado em Python de forma simples e intuitiva,\n",
        "priorizando a facilidade de uso para os estudantes.\n",
        "A interface do programa pode ser apenas textual, sem a necessidade de uma\n",
        "interface gráfica .\n",
        "A validação das respostas deve considerar apenas valores numéricos inteiros.\n",
        "É importante que o programa forneça feedback imediato ao usuário após cada\n",
        "resposta, para que ele possa corrigir seus erros e aprender com eles durante a prática\n",
        "da tabuada."
      ],
      "metadata": {
        "id": "aUtcrmGdT_rz"
      }
    },
    {
      "cell_type": "code",
      "execution_count": null,
      "metadata": {
        "colab": {
          "base_uri": "https://localhost:8080/"
        },
        "id": "cG2sxp53TR7_",
        "outputId": "19bb0afa-f710-4095-882f-a7f07c98829a"
      },
      "outputs": [
        {
          "output_type": "stream",
          "name": "stdout",
          "text": [
            "Digite o número entre 1 e 10 para praticar a tabuada: \n",
            "                    [0] - Parar\n",
            "                    2\n",
            "1 x 2 = 2\n",
            "CORRETO\n",
            "2 x 2 = 4\n",
            "CORRETO\n",
            "3 x 2 = 7\n",
            "Que pena, você errou. O valor correto é: 6\n",
            "4 x 2 = 8\n",
            "CORRETO\n",
            "5 x 2 = 10\n",
            "CORRETO\n",
            "6 x 2 = 11\n",
            "Que pena, você errou. O valor correto é: 12\n",
            "7 x 2 = 14\n",
            "CORRETO\n",
            "8 x 2 = 18\n",
            "Que pena, você errou. O valor correto é: 16\n",
            "9 x 2 = 18\n",
            "CORRETO\n",
            "10 x 2 = 20\n",
            "CORRETO\n",
            "\n",
            "Total de acertos: 7 e Total de erros: 3\n",
            "\n"
          ]
        }
      ],
      "source": [
        "cont = 1                                                                                      # Variável cont (tipo inteiro) para controlar o número de repetições da tabuada, limitando a 10\n",
        "qtdeAcertos = 0                                                                               # Variável acertos (tipo inteiro) para guardar o número de respostas corretas informadas pelo usuário\n",
        "qtdeErros = 0                                                                                 # Variável erros (tipo inteiro) para guardar o número de respostas erradas informadas pelo usuário\n",
        "\n",
        "\n",
        "while True:\n",
        "  numero = int(input('''Digite o número entre 1 e 10 para praticar a tabuada:\n",
        "                    [0] - Parar\n",
        "                    '''))                                                                     # Variável número (tipo inteiro) criada para guardar o número digitado pelo usuário\n",
        "  if numero != 0:                                                                             # Validando se o número digitado é diferente de 0\n",
        "    if numero <= 10:                                                                          # Validando se o número digitado é entre 1 e 10\n",
        "      while True:\n",
        "        if cont <= 10:                                                                        # Validando se o número de repetições do laço (multiplicação) é menor ou igual a 10\n",
        "          resultado = cont * numero                                                           # Executando o calculo da multiplicação entre o número digitado e o número de repetição\n",
        "          resposta = int(input('{:} x {:} = '.format(cont, numero)))                          # Váriável para guardar a resposta informada pelo usuário\n",
        "          cont += 1                                                                           # Atualizando a variável cont\n",
        "          if resultado == resposta:                                                           # Validando se a resposta informada é igual ao resultado calculado\n",
        "            qtdeAcertos += 1                                                                  # Se resposta correta, atualiza a variável acerto\n",
        "            print(\"CORRETO\")                                                                  # Apresentando mensagem de resposta correta\n",
        "          else:\n",
        "            qtdeErros += 1                                                                    # Se resposta incorreta, atualiza a variável erro\n",
        "            print(\"Que pena, você errou. O valor correto é: {:}\".format(resultado))           # Apresentando mensagem de resposta incorreta\n",
        "        else:\n",
        "          print()\n",
        "          print('Total de acertos: {:} e Total de erros: {:}'.format(qtdeAcertos, qtdeErros)) # Imprime a quantidade de acertos e erros do usuário\n",
        "          print()\n",
        "          break                                                                               # Finaliza o programa\n",
        "    else:\n",
        "      print(\"Número inválido. Tente novamente!\")                                              # Se número maior que 10 exibe mensagem\n",
        "      print()\n",
        "  else:\n",
        "    print(\"Tabuada finalizada!\")                                                              # Se número igual a zero exibe mensagem\n",
        "    break                                                                                     # Finaliza o programa\n",
        "\n",
        "\n",
        "\n"
      ]
    }
  ]
}
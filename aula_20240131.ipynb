{
  "nbformat": 4,
  "nbformat_minor": 0,
  "metadata": {
    "colab": {
      "provenance": [],
      "authorship_tag": "ABX9TyM/UuCIpC2zo27DM2g46bYe",
      "include_colab_link": true
    },
    "kernelspec": {
      "name": "python3",
      "display_name": "Python 3"
    },
    "language_info": {
      "name": "python"
    }
  },
  "cells": [
    {
      "cell_type": "markdown",
      "metadata": {
        "id": "view-in-github",
        "colab_type": "text"
      },
      "source": [
        "<a href=\"https://colab.research.google.com/github/tomasiamussuri/python_senai/blob/main/aula_20240131.ipynb\" target=\"_parent\"><img src=\"https://colab.research.google.com/assets/colab-badge.svg\" alt=\"Open In Colab\"/></a>"
      ]
    },
    {
      "cell_type": "markdown",
      "source": [
        "Programa para solicitar o nome do usuário"
      ],
      "metadata": {
        "id": "vaLEXbTw6jIR"
      }
    },
    {
      "cell_type": "code",
      "execution_count": null,
      "metadata": {
        "colab": {
          "base_uri": "https://localhost:8080/"
        },
        "id": "pOhE5wyR54Op",
        "outputId": "8e5a828b-21e9-47f6-c0bf-bad9f855262f"
      },
      "outputs": [
        {
          "name": "stdout",
          "output_type": "stream",
          "text": [
            "Digite seu nome: João\n"
          ]
        }
      ],
      "source": [
        "nome = input(\"Digite seu nome: \") #Declarado variável, do tipo char, nome para receber o nome digitado pelo usuário."
      ]
    },
    {
      "cell_type": "markdown",
      "source": [
        "Imprimir(exibir) o nome digitado"
      ],
      "metadata": {
        "id": "zZt4NHFf8aOJ"
      }
    },
    {
      "cell_type": "code",
      "source": [
        "print(\"Seu nome é: \", nome)"
      ],
      "metadata": {
        "colab": {
          "base_uri": "https://localhost:8080/"
        },
        "id": "bHFYxLWr7M7P",
        "outputId": "b4bda319-4d46-434e-d8d1-4df6bf31211f"
      },
      "execution_count": null,
      "outputs": [
        {
          "output_type": "stream",
          "name": "stdout",
          "text": [
            "Seu nome é:  João\n"
          ]
        }
      ]
    },
    {
      "cell_type": "markdown",
      "source": [
        "Execute a soma de 2 números digitados pelo usuário"
      ],
      "metadata": {
        "id": "ktTfsezzDDx9"
      }
    },
    {
      "cell_type": "code",
      "source": [
        "numero1 = int(input(\"Digite um número: \")) #foi usado o int para converter string e número inteiro\n",
        "numero2 = int(input(\"Digite outro número: \")) #foi usado o int para converter string e número inteiro\n",
        "soma = numero1 + numero2\n",
        "print(\"O resultado da soma dos números informados é: \", soma)\n",
        "#soma #pode ser exibido o resultado escrevendo assim"
      ],
      "metadata": {
        "colab": {
          "base_uri": "https://localhost:8080/"
        },
        "id": "ADng2uP78_kY",
        "outputId": "c8b4f927-7f52-46ab-fdc0-f96162f263a0"
      },
      "execution_count": null,
      "outputs": [
        {
          "output_type": "stream",
          "name": "stdout",
          "text": [
            "Digite um número: 4\n",
            "Digite outro número: 5\n",
            "O resultado da soma dos 2 números informados é:  9\n"
          ]
        }
      ]
    },
    {
      "cell_type": "markdown",
      "source": [
        "1 - Crie um programa para ler um número inteiro e apresente o resultado do quadrado deste número"
      ],
      "metadata": {
        "id": "dRUnj_4ZDE40"
      }
    },
    {
      "cell_type": "code",
      "source": [
        "numero1 = int(input(\"Digite um número: \")) #criada variável para receber um número inteiro digitado pelo usuário\n",
        "resultado = numero1 * numero1\n",
        "print(\"O quadrado de \", numero1, \"é: \", resultado)"
      ],
      "metadata": {
        "colab": {
          "base_uri": "https://localhost:8080/"
        },
        "id": "mDg_RGmtDNOM",
        "outputId": "f81655ce-19dc-4047-af53-c6eb86426d87"
      },
      "execution_count": null,
      "outputs": [
        {
          "output_type": "stream",
          "name": "stdout",
          "text": [
            "Digite um número: 6\n",
            "O quadrado de  6 é:  36\n"
          ]
        }
      ]
    },
    {
      "cell_type": "markdown",
      "source": [
        "2 - Crie um programa que leia dois caracteres e imprima-os na tela da seguinte forma: \"O usuário digitou {caractere1} e {caractere2}!\"."
      ],
      "metadata": {
        "id": "JIvBVhIoEuq3"
      }
    },
    {
      "cell_type": "code",
      "source": [
        "caractere1 = input(\"Digite uma palavra: \")\n",
        "caractere2 = input(\"Digite outra palavra: \")\n",
        "print(\"O usuário digitou \", caractere1, \"e \", caractere2, \"!\")"
      ],
      "metadata": {
        "colab": {
          "base_uri": "https://localhost:8080/"
        },
        "id": "K--oRoMuFLkT",
        "outputId": "52148da9-7553-4253-bd03-111208655a13"
      },
      "execution_count": null,
      "outputs": [
        {
          "output_type": "stream",
          "name": "stdout",
          "text": [
            "Digite uma palavra: Uva\n",
            "Digite outra palavra: Maça\n",
            "O usuário digitou  Uva e  Maça\n"
          ]
        }
      ]
    },
    {
      "cell_type": "markdown",
      "source": [
        "3 - Crie um programa que leia um número inteiro e imprimir seu sucessor e seu antecessor."
      ],
      "metadata": {
        "id": "ChVCAnDUFvCP"
      }
    },
    {
      "cell_type": "code",
      "source": [
        "numero = int(input(\"Digite um número: \"))\n",
        "antecessorNumero = (numero - 1)\n",
        "sucessorNumero = (numero + 1)\n",
        "print(\"O antecessor do numero {:} é: {:} e o sucessor é: {:}.\".format(numero, antecessorNumero, sucessorNumero))"
      ],
      "metadata": {
        "colab": {
          "base_uri": "https://localhost:8080/"
        },
        "id": "Uc1h_E1lGuyj",
        "outputId": "798c302b-e79d-4600-97a6-d1bfa167293b"
      },
      "execution_count": null,
      "outputs": [
        {
          "output_type": "stream",
          "name": "stdout",
          "text": [
            "Digite um número: 6\n",
            "O antecessor do numero 6 é: 5 e o sucessor é: 7.\n"
          ]
        }
      ]
    },
    {
      "cell_type": "markdown",
      "source": [
        "4 - Crie um programa para entrar com a base e a altura de um retângulo e imprimir respectivamente o perímetro e a área correspondente."
      ],
      "metadata": {
        "id": "fnAvkUlrqI5c"
      }
    },
    {
      "cell_type": "code",
      "source": [
        "base = float(input(\"Informe o tamanho da base do retângulo: \"))\n",
        "altura = float(input(\"Informa o tamanho da altura do retângulo: \"))\n",
        "\n",
        "perimetro = 2 * (base + altura)\n",
        "\n",
        "print(\"O perímetro do retângulo é: {:.2f}.\".format(perimetro))"
      ],
      "metadata": {
        "colab": {
          "base_uri": "https://localhost:8080/"
        },
        "id": "4ZamQVDpqeO1",
        "outputId": "6b756f01-0a2b-4b69-a54f-bb01d59c60cf"
      },
      "execution_count": null,
      "outputs": [
        {
          "output_type": "stream",
          "name": "stdout",
          "text": [
            "Informe o tamanho da base do retângulo: 3.5\n",
            "Informa o tamanho da altura do retângulo: 1.5\n",
            "O perímetro do retângulo é: 10.00.\n"
          ]
        }
      ]
    },
    {
      "cell_type": "markdown",
      "source": [
        "5 - Crie um programa que dados o valor, a taxa e o tempo, efetuar o cálculo do valor de uma prestação em atraso, utilizando a fórmula:\n",
        "prestação = valor + (valor * (taxa/100) * tempo)"
      ],
      "metadata": {
        "id": "LG8KWZVFqUNX"
      }
    },
    {
      "cell_type": "code",
      "source": [
        "valor = float(input(\"Informe o valor da prestação: R$ \"))\n",
        "taxa = float(input(\"Informe a taxa: \"))\n",
        "tempo = int(input(\"Informe a quantidade de dias em atraso: \"))\n",
        "prestacao = valor + (valor * (taxa/100) * tempo)\n",
        "\n",
        "print(\"O valor atualizado da prestação é R$ {:.2f}.\".format(prestacao))"
      ],
      "metadata": {
        "colab": {
          "base_uri": "https://localhost:8080/"
        },
        "id": "pGDPVYtuuVES",
        "outputId": "10f339ee-eb28-4d7c-c554-2671ba9a1451"
      },
      "execution_count": null,
      "outputs": [
        {
          "output_type": "stream",
          "name": "stdout",
          "text": [
            "Informe o valor da prestação: R$ 1000\n",
            "Informe a taxa: 1\n",
            "Informe a quantidade de dias em atraso: 10\n",
            "O valor atualizado da prestação é R$ 1100.00.\n"
          ]
        }
      ]
    }
  ]
}